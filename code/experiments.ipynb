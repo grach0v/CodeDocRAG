{
 "cells": [
  {
   "cell_type": "markdown",
   "metadata": {},
   "source": [
    "# Plan of the project\n",
    "- Run experiments \n",
    "- Visualize the results\n",
    "- Look into the results\n",
    "- Make conclusions"
   ]
  },
  {
   "cell_type": "markdown",
   "metadata": {},
   "source": [
    "## Run the experiment\n",
    "Uncomment the code below to rerun the experiment or change any parameters.\n",
    "You can run the rest of the notebook without running this cell."
   ]
  },
  {
   "cell_type": "code",
   "execution_count": 2,
   "metadata": {},
   "outputs": [],
   "source": [
    "# %%bash \n",
    "# python optimize_hyperparams.py \\\n",
    "#     --trials 100 \\\n",
    "#     --questions_path \"../data/state_of_the_union_questions_df.csv\" \\\n",
    "#     --text_path \"../data/state_of_the_union.md\" \\\n",
    "#     --chunk_size_min 30 \\\n",
    "#     --chunk_size_max 300 \\\n",
    "#     --chunk_size_step 10 \\\n",
    "#     --chunk_overlap_ratio_min 0.0 \\\n",
    "#     --chunk_overlap_ratio_max 0.7 \\\n",
    "#     --chunk_overlap_ratio_step 0.1 \\\n",
    "#     --num_retrieved_chunks_min 1 \\\n",
    "#     --num_retrieved_chunks_max 10 \\\n",
    "#     --threshold_min 0.0 \\\n",
    "#     --threshold_max 0.9 \\\n",
    "#     --model_names \"sentence-transformers/all-MiniLM-L6-v2,sentence-transformers/all-MiniLM-L12-v2\" \\\n",
    "#     --study_csv \"../data/study.csv\""
   ]
  },
  {
   "cell_type": "markdown",
   "metadata": {},
   "source": [
    "## Load and Visualize the results"
   ]
  },
  {
   "cell_type": "code",
   "execution_count": 3,
   "metadata": {},
   "outputs": [],
   "source": [
    "import pandas as pd\n",
    "import optuna\n",
    "import optuna.visualization as vis"
   ]
  },
  {
   "cell_type": "code",
   "execution_count": 4,
   "metadata": {},
   "outputs": [
    {
     "name": "stderr",
     "output_type": "stream",
     "text": [
      "[I 2025-03-12 12:58:33,711] A new study created in memory with name: no-name-aaa073f4-b113-4cc9-b98c-0f3398024954\n"
     ]
    },
    {
     "name": "stdout",
     "output_type": "stream",
     "text": [
      "Best trial:\n",
      "  Value: 0.4595684560698659\n",
      "  Params: \n",
      "    chunk_overlap: 0.7\n",
      "    chunk_size: 40\n",
      "    model_name: sentence-transformers/all-MiniLM-L6-v2\n",
      "    num_retrieved_chunks: 1\n",
      "    threshold: 0.2786397449038925\n"
     ]
    }
   ],
   "source": [
    "def load_study_from_csv(csv_path):\n",
    "    trials_df = pd.read_csv(csv_path)\n",
    "    study = optuna.create_study(direction=\"maximize\")\n",
    "    for _, row in trials_df.iterrows():\n",
    "        params = {\n",
    "            'chunk_overlap': row['params_chunk_overlap'],\n",
    "            'chunk_size': row['params_chunk_size'],\n",
    "            'model_name': row['params_model_name'],\n",
    "            'num_retrieved_chunks': row['params_num_retrieved_chunks'],\n",
    "            'threshold': row['params_threshold']\n",
    "        }\n",
    "        trial = optuna.trial.create_trial(\n",
    "            params=params,\n",
    "            distributions={\n",
    "                'chunk_overlap': optuna.distributions.FloatDistribution(0.0, 0.7),\n",
    "                'chunk_size': optuna.distributions.IntDistribution(30, 300),\n",
    "                'model_name': optuna.distributions.CategoricalDistribution(['sentence-transformers/all-MiniLM-L6-v2', 'sentence-transformers/all-MiniLM-L12-v2']),\n",
    "                'num_retrieved_chunks': optuna.distributions.IntDistribution(1, 10),\n",
    "                'threshold': optuna.distributions.FloatDistribution(0.0, 0.9)\n",
    "            },\n",
    "            value=row['value']\n",
    "        )\n",
    "        study.add_trial(trial)\n",
    "    return study\n",
    "\n",
    "# Example usage\n",
    "study = load_study_from_csv(\"../data/study.csv\")\n",
    "print(\"Best trial:\")\n",
    "trial = study.best_trial\n",
    "print(f\"  Value: {trial.value}\")\n",
    "print(\"  Params: \")\n",
    "for key, value in trial.params.items():\n",
    "    print(f\"    {key}: {value}\")"
   ]
  },
  {
   "cell_type": "code",
   "execution_count": 5,
   "metadata": {},
   "outputs": [
    {
     "data": {
      "application/vnd.plotly.v1+json": {
       "config": {
        "plotlyServerURL": "https://plot.ly"
       },
       "data": [
        {
         "mode": "markers",
         "name": "Objective Value",
         "type": "scatter",
         "x": [
          0,
          1,
          2,
          3,
          4,
          5,
          6,
          7,
          8,
          9,
          10,
          11,
          12,
          13,
          14,
          15,
          16,
          17,
          18,
          19,
          20,
          21,
          22,
          23,
          24,
          25,
          26,
          27,
          28,
          29,
          30,
          31,
          32,
          33,
          34,
          35,
          36,
          37,
          38,
          39,
          40,
          41,
          42,
          43,
          44,
          45,
          46,
          47,
          48,
          49,
          50,
          51,
          52,
          53,
          54,
          55,
          56,
          57,
          58,
          59,
          60,
          61,
          62,
          63,
          64,
          65,
          66,
          67,
          68,
          69,
          70,
          71,
          72,
          73,
          74,
          75,
          76,
          77,
          78,
          79,
          80,
          81,
          82,
          83,
          84,
          85,
          86,
          87,
          88,
          89,
          90,
          91,
          92,
          93,
          94,
          95,
          96,
          97,
          98,
          99
         ],
         "y": [
          0.0861489974602821,
          0.1409380732987818,
          0.012825647108059,
          0.0324307057056715,
          0.2042152884280419,
          0.1044017106339359,
          0.0820062504582375,
          0,
          0.078052042547705,
          0.2758005141741877,
          0.4595684560698659,
          0.3807230043852746,
          0.3807230043852746,
          0.3807230043852746,
          0.1539409925292045,
          0.0111296911108941,
          0,
          0.2437520449400454,
          0.297380422343707,
          0.1548780830197303,
          0.0870248746887492,
          0.3807230043852746,
          0.376707666603503,
          0.2883366872577532,
          0.2879176805102249,
          0.376707666603503,
          0.3888700482122152,
          0.1952315841800318,
          0.2476591675527004,
          0.261996812818834,
          0.1800939702082092,
          0.3970747973588324,
          0.2246161759358597,
          0.3697845514720245,
          0.2497973804924758,
          0.34272838020006,
          0.1898042232271423,
          0.2758005141741877,
          0.2727879588207859,
          0.01798598986387,
          0.0530790207022504,
          0.3807230043852746,
          0.4325934439560708,
          0.2704648370614382,
          0.44162934360015,
          0.3631613660911956,
          0.3173003864183544,
          0.0752681518150868,
          0.0912052671430854,
          0.214802615136102,
          0.0683245479375414,
          0.4595684560698659,
          0.44162934360015,
          0.4595684560698659,
          0.4595684560698659,
          0.3002990098100064,
          0.376707666603503,
          0.4349321357303425,
          0.3553890901105931,
          0.436162942990681,
          0.2838952904615156,
          0.436162942990681,
          0.4221852888972006,
          0.4243066990693765,
          0.3497594306153685,
          0.369507769321432,
          0.3807230043852746,
          0.4389508087660551,
          0.3129512864226206,
          0.3677146809993571,
          0.1060640628631489,
          0.4595684560698659,
          0.4102309393433385,
          0.3807230043852746,
          0.3970747973588324,
          0.299472777793211,
          0.3905986740303785,
          0,
          0.4595684560698659,
          0.3807230043852746,
          0.2455370976514436,
          0.4595684560698659,
          0.3970747973588324,
          0.4595684560698659,
          0.2248085674335617,
          0.3807230043852746,
          0.2624381917276279,
          0.2817702482820126,
          0.2638712211240008,
          0.3344259180112592,
          0.3970747973588324,
          0.44162934360015,
          0.44162934360015,
          0.3807230043852746,
          0.376707666603503,
          0.44162934360015,
          0.3970747973588324,
          0.2831570363406813,
          0.376707666603503,
          0.3507478709771123
         ]
        },
        {
         "mode": "lines",
         "name": "Best Value",
         "type": "scatter",
         "x": [
          0,
          1,
          2,
          3,
          4,
          5,
          6,
          7,
          8,
          9,
          10,
          11,
          12,
          13,
          14,
          15,
          16,
          17,
          18,
          19,
          20,
          21,
          22,
          23,
          24,
          25,
          26,
          27,
          28,
          29,
          30,
          31,
          32,
          33,
          34,
          35,
          36,
          37,
          38,
          39,
          40,
          41,
          42,
          43,
          44,
          45,
          46,
          47,
          48,
          49,
          50,
          51,
          52,
          53,
          54,
          55,
          56,
          57,
          58,
          59,
          60,
          61,
          62,
          63,
          64,
          65,
          66,
          67,
          68,
          69,
          70,
          71,
          72,
          73,
          74,
          75,
          76,
          77,
          78,
          79,
          80,
          81,
          82,
          83,
          84,
          85,
          86,
          87,
          88,
          89,
          90,
          91,
          92,
          93,
          94,
          95,
          96,
          97,
          98,
          99
         ],
         "y": [
          0.0861489974602821,
          0.1409380732987818,
          0.1409380732987818,
          0.1409380732987818,
          0.2042152884280419,
          0.2042152884280419,
          0.2042152884280419,
          0.2042152884280419,
          0.2042152884280419,
          0.2758005141741877,
          0.4595684560698659,
          0.4595684560698659,
          0.4595684560698659,
          0.4595684560698659,
          0.4595684560698659,
          0.4595684560698659,
          0.4595684560698659,
          0.4595684560698659,
          0.4595684560698659,
          0.4595684560698659,
          0.4595684560698659,
          0.4595684560698659,
          0.4595684560698659,
          0.4595684560698659,
          0.4595684560698659,
          0.4595684560698659,
          0.4595684560698659,
          0.4595684560698659,
          0.4595684560698659,
          0.4595684560698659,
          0.4595684560698659,
          0.4595684560698659,
          0.4595684560698659,
          0.4595684560698659,
          0.4595684560698659,
          0.4595684560698659,
          0.4595684560698659,
          0.4595684560698659,
          0.4595684560698659,
          0.4595684560698659,
          0.4595684560698659,
          0.4595684560698659,
          0.4595684560698659,
          0.4595684560698659,
          0.4595684560698659,
          0.4595684560698659,
          0.4595684560698659,
          0.4595684560698659,
          0.4595684560698659,
          0.4595684560698659,
          0.4595684560698659,
          0.4595684560698659,
          0.4595684560698659,
          0.4595684560698659,
          0.4595684560698659,
          0.4595684560698659,
          0.4595684560698659,
          0.4595684560698659,
          0.4595684560698659,
          0.4595684560698659,
          0.4595684560698659,
          0.4595684560698659,
          0.4595684560698659,
          0.4595684560698659,
          0.4595684560698659,
          0.4595684560698659,
          0.4595684560698659,
          0.4595684560698659,
          0.4595684560698659,
          0.4595684560698659,
          0.4595684560698659,
          0.4595684560698659,
          0.4595684560698659,
          0.4595684560698659,
          0.4595684560698659,
          0.4595684560698659,
          0.4595684560698659,
          0.4595684560698659,
          0.4595684560698659,
          0.4595684560698659,
          0.4595684560698659,
          0.4595684560698659,
          0.4595684560698659,
          0.4595684560698659,
          0.4595684560698659,
          0.4595684560698659,
          0.4595684560698659,
          0.4595684560698659,
          0.4595684560698659,
          0.4595684560698659,
          0.4595684560698659,
          0.4595684560698659,
          0.4595684560698659,
          0.4595684560698659,
          0.4595684560698659,
          0.4595684560698659,
          0.4595684560698659,
          0.4595684560698659,
          0.4595684560698659,
          0.4595684560698659
         ]
        },
        {
         "marker": {
          "color": "#cccccc"
         },
         "mode": "markers",
         "name": "Infeasible Trial",
         "showlegend": false,
         "type": "scatter",
         "x": [],
         "y": []
        }
       ],
       "layout": {
        "template": {
         "data": {
          "bar": [
           {
            "error_x": {
             "color": "#2a3f5f"
            },
            "error_y": {
             "color": "#2a3f5f"
            },
            "marker": {
             "line": {
              "color": "#E5ECF6",
              "width": 0.5
             },
             "pattern": {
              "fillmode": "overlay",
              "size": 10,
              "solidity": 0.2
             }
            },
            "type": "bar"
           }
          ],
          "barpolar": [
           {
            "marker": {
             "line": {
              "color": "#E5ECF6",
              "width": 0.5
             },
             "pattern": {
              "fillmode": "overlay",
              "size": 10,
              "solidity": 0.2
             }
            },
            "type": "barpolar"
           }
          ],
          "carpet": [
           {
            "aaxis": {
             "endlinecolor": "#2a3f5f",
             "gridcolor": "white",
             "linecolor": "white",
             "minorgridcolor": "white",
             "startlinecolor": "#2a3f5f"
            },
            "baxis": {
             "endlinecolor": "#2a3f5f",
             "gridcolor": "white",
             "linecolor": "white",
             "minorgridcolor": "white",
             "startlinecolor": "#2a3f5f"
            },
            "type": "carpet"
           }
          ],
          "choropleth": [
           {
            "colorbar": {
             "outlinewidth": 0,
             "ticks": ""
            },
            "type": "choropleth"
           }
          ],
          "contour": [
           {
            "colorbar": {
             "outlinewidth": 0,
             "ticks": ""
            },
            "colorscale": [
             [
              0,
              "#0d0887"
             ],
             [
              0.1111111111111111,
              "#46039f"
             ],
             [
              0.2222222222222222,
              "#7201a8"
             ],
             [
              0.3333333333333333,
              "#9c179e"
             ],
             [
              0.4444444444444444,
              "#bd3786"
             ],
             [
              0.5555555555555556,
              "#d8576b"
             ],
             [
              0.6666666666666666,
              "#ed7953"
             ],
             [
              0.7777777777777778,
              "#fb9f3a"
             ],
             [
              0.8888888888888888,
              "#fdca26"
             ],
             [
              1,
              "#f0f921"
             ]
            ],
            "type": "contour"
           }
          ],
          "contourcarpet": [
           {
            "colorbar": {
             "outlinewidth": 0,
             "ticks": ""
            },
            "type": "contourcarpet"
           }
          ],
          "heatmap": [
           {
            "colorbar": {
             "outlinewidth": 0,
             "ticks": ""
            },
            "colorscale": [
             [
              0,
              "#0d0887"
             ],
             [
              0.1111111111111111,
              "#46039f"
             ],
             [
              0.2222222222222222,
              "#7201a8"
             ],
             [
              0.3333333333333333,
              "#9c179e"
             ],
             [
              0.4444444444444444,
              "#bd3786"
             ],
             [
              0.5555555555555556,
              "#d8576b"
             ],
             [
              0.6666666666666666,
              "#ed7953"
             ],
             [
              0.7777777777777778,
              "#fb9f3a"
             ],
             [
              0.8888888888888888,
              "#fdca26"
             ],
             [
              1,
              "#f0f921"
             ]
            ],
            "type": "heatmap"
           }
          ],
          "histogram": [
           {
            "marker": {
             "pattern": {
              "fillmode": "overlay",
              "size": 10,
              "solidity": 0.2
             }
            },
            "type": "histogram"
           }
          ],
          "histogram2d": [
           {
            "colorbar": {
             "outlinewidth": 0,
             "ticks": ""
            },
            "colorscale": [
             [
              0,
              "#0d0887"
             ],
             [
              0.1111111111111111,
              "#46039f"
             ],
             [
              0.2222222222222222,
              "#7201a8"
             ],
             [
              0.3333333333333333,
              "#9c179e"
             ],
             [
              0.4444444444444444,
              "#bd3786"
             ],
             [
              0.5555555555555556,
              "#d8576b"
             ],
             [
              0.6666666666666666,
              "#ed7953"
             ],
             [
              0.7777777777777778,
              "#fb9f3a"
             ],
             [
              0.8888888888888888,
              "#fdca26"
             ],
             [
              1,
              "#f0f921"
             ]
            ],
            "type": "histogram2d"
           }
          ],
          "histogram2dcontour": [
           {
            "colorbar": {
             "outlinewidth": 0,
             "ticks": ""
            },
            "colorscale": [
             [
              0,
              "#0d0887"
             ],
             [
              0.1111111111111111,
              "#46039f"
             ],
             [
              0.2222222222222222,
              "#7201a8"
             ],
             [
              0.3333333333333333,
              "#9c179e"
             ],
             [
              0.4444444444444444,
              "#bd3786"
             ],
             [
              0.5555555555555556,
              "#d8576b"
             ],
             [
              0.6666666666666666,
              "#ed7953"
             ],
             [
              0.7777777777777778,
              "#fb9f3a"
             ],
             [
              0.8888888888888888,
              "#fdca26"
             ],
             [
              1,
              "#f0f921"
             ]
            ],
            "type": "histogram2dcontour"
           }
          ],
          "mesh3d": [
           {
            "colorbar": {
             "outlinewidth": 0,
             "ticks": ""
            },
            "type": "mesh3d"
           }
          ],
          "parcoords": [
           {
            "line": {
             "colorbar": {
              "outlinewidth": 0,
              "ticks": ""
             }
            },
            "type": "parcoords"
           }
          ],
          "pie": [
           {
            "automargin": true,
            "type": "pie"
           }
          ],
          "scatter": [
           {
            "fillpattern": {
             "fillmode": "overlay",
             "size": 10,
             "solidity": 0.2
            },
            "type": "scatter"
           }
          ],
          "scatter3d": [
           {
            "line": {
             "colorbar": {
              "outlinewidth": 0,
              "ticks": ""
             }
            },
            "marker": {
             "colorbar": {
              "outlinewidth": 0,
              "ticks": ""
             }
            },
            "type": "scatter3d"
           }
          ],
          "scattercarpet": [
           {
            "marker": {
             "colorbar": {
              "outlinewidth": 0,
              "ticks": ""
             }
            },
            "type": "scattercarpet"
           }
          ],
          "scattergeo": [
           {
            "marker": {
             "colorbar": {
              "outlinewidth": 0,
              "ticks": ""
             }
            },
            "type": "scattergeo"
           }
          ],
          "scattergl": [
           {
            "marker": {
             "colorbar": {
              "outlinewidth": 0,
              "ticks": ""
             }
            },
            "type": "scattergl"
           }
          ],
          "scattermap": [
           {
            "marker": {
             "colorbar": {
              "outlinewidth": 0,
              "ticks": ""
             }
            },
            "type": "scattermap"
           }
          ],
          "scattermapbox": [
           {
            "marker": {
             "colorbar": {
              "outlinewidth": 0,
              "ticks": ""
             }
            },
            "type": "scattermapbox"
           }
          ],
          "scatterpolar": [
           {
            "marker": {
             "colorbar": {
              "outlinewidth": 0,
              "ticks": ""
             }
            },
            "type": "scatterpolar"
           }
          ],
          "scatterpolargl": [
           {
            "marker": {
             "colorbar": {
              "outlinewidth": 0,
              "ticks": ""
             }
            },
            "type": "scatterpolargl"
           }
          ],
          "scatterternary": [
           {
            "marker": {
             "colorbar": {
              "outlinewidth": 0,
              "ticks": ""
             }
            },
            "type": "scatterternary"
           }
          ],
          "surface": [
           {
            "colorbar": {
             "outlinewidth": 0,
             "ticks": ""
            },
            "colorscale": [
             [
              0,
              "#0d0887"
             ],
             [
              0.1111111111111111,
              "#46039f"
             ],
             [
              0.2222222222222222,
              "#7201a8"
             ],
             [
              0.3333333333333333,
              "#9c179e"
             ],
             [
              0.4444444444444444,
              "#bd3786"
             ],
             [
              0.5555555555555556,
              "#d8576b"
             ],
             [
              0.6666666666666666,
              "#ed7953"
             ],
             [
              0.7777777777777778,
              "#fb9f3a"
             ],
             [
              0.8888888888888888,
              "#fdca26"
             ],
             [
              1,
              "#f0f921"
             ]
            ],
            "type": "surface"
           }
          ],
          "table": [
           {
            "cells": {
             "fill": {
              "color": "#EBF0F8"
             },
             "line": {
              "color": "white"
             }
            },
            "header": {
             "fill": {
              "color": "#C8D4E3"
             },
             "line": {
              "color": "white"
             }
            },
            "type": "table"
           }
          ]
         },
         "layout": {
          "annotationdefaults": {
           "arrowcolor": "#2a3f5f",
           "arrowhead": 0,
           "arrowwidth": 1
          },
          "autotypenumbers": "strict",
          "coloraxis": {
           "colorbar": {
            "outlinewidth": 0,
            "ticks": ""
           }
          },
          "colorscale": {
           "diverging": [
            [
             0,
             "#8e0152"
            ],
            [
             0.1,
             "#c51b7d"
            ],
            [
             0.2,
             "#de77ae"
            ],
            [
             0.3,
             "#f1b6da"
            ],
            [
             0.4,
             "#fde0ef"
            ],
            [
             0.5,
             "#f7f7f7"
            ],
            [
             0.6,
             "#e6f5d0"
            ],
            [
             0.7,
             "#b8e186"
            ],
            [
             0.8,
             "#7fbc41"
            ],
            [
             0.9,
             "#4d9221"
            ],
            [
             1,
             "#276419"
            ]
           ],
           "sequential": [
            [
             0,
             "#0d0887"
            ],
            [
             0.1111111111111111,
             "#46039f"
            ],
            [
             0.2222222222222222,
             "#7201a8"
            ],
            [
             0.3333333333333333,
             "#9c179e"
            ],
            [
             0.4444444444444444,
             "#bd3786"
            ],
            [
             0.5555555555555556,
             "#d8576b"
            ],
            [
             0.6666666666666666,
             "#ed7953"
            ],
            [
             0.7777777777777778,
             "#fb9f3a"
            ],
            [
             0.8888888888888888,
             "#fdca26"
            ],
            [
             1,
             "#f0f921"
            ]
           ],
           "sequentialminus": [
            [
             0,
             "#0d0887"
            ],
            [
             0.1111111111111111,
             "#46039f"
            ],
            [
             0.2222222222222222,
             "#7201a8"
            ],
            [
             0.3333333333333333,
             "#9c179e"
            ],
            [
             0.4444444444444444,
             "#bd3786"
            ],
            [
             0.5555555555555556,
             "#d8576b"
            ],
            [
             0.6666666666666666,
             "#ed7953"
            ],
            [
             0.7777777777777778,
             "#fb9f3a"
            ],
            [
             0.8888888888888888,
             "#fdca26"
            ],
            [
             1,
             "#f0f921"
            ]
           ]
          },
          "colorway": [
           "#636efa",
           "#EF553B",
           "#00cc96",
           "#ab63fa",
           "#FFA15A",
           "#19d3f3",
           "#FF6692",
           "#B6E880",
           "#FF97FF",
           "#FECB52"
          ],
          "font": {
           "color": "#2a3f5f"
          },
          "geo": {
           "bgcolor": "white",
           "lakecolor": "white",
           "landcolor": "#E5ECF6",
           "showlakes": true,
           "showland": true,
           "subunitcolor": "white"
          },
          "hoverlabel": {
           "align": "left"
          },
          "hovermode": "closest",
          "mapbox": {
           "style": "light"
          },
          "paper_bgcolor": "white",
          "plot_bgcolor": "#E5ECF6",
          "polar": {
           "angularaxis": {
            "gridcolor": "white",
            "linecolor": "white",
            "ticks": ""
           },
           "bgcolor": "#E5ECF6",
           "radialaxis": {
            "gridcolor": "white",
            "linecolor": "white",
            "ticks": ""
           }
          },
          "scene": {
           "xaxis": {
            "backgroundcolor": "#E5ECF6",
            "gridcolor": "white",
            "gridwidth": 2,
            "linecolor": "white",
            "showbackground": true,
            "ticks": "",
            "zerolinecolor": "white"
           },
           "yaxis": {
            "backgroundcolor": "#E5ECF6",
            "gridcolor": "white",
            "gridwidth": 2,
            "linecolor": "white",
            "showbackground": true,
            "ticks": "",
            "zerolinecolor": "white"
           },
           "zaxis": {
            "backgroundcolor": "#E5ECF6",
            "gridcolor": "white",
            "gridwidth": 2,
            "linecolor": "white",
            "showbackground": true,
            "ticks": "",
            "zerolinecolor": "white"
           }
          },
          "shapedefaults": {
           "line": {
            "color": "#2a3f5f"
           }
          },
          "ternary": {
           "aaxis": {
            "gridcolor": "white",
            "linecolor": "white",
            "ticks": ""
           },
           "baxis": {
            "gridcolor": "white",
            "linecolor": "white",
            "ticks": ""
           },
           "bgcolor": "#E5ECF6",
           "caxis": {
            "gridcolor": "white",
            "linecolor": "white",
            "ticks": ""
           }
          },
          "title": {
           "x": 0.05
          },
          "xaxis": {
           "automargin": true,
           "gridcolor": "white",
           "linecolor": "white",
           "ticks": "",
           "title": {
            "standoff": 15
           },
           "zerolinecolor": "white",
           "zerolinewidth": 2
          },
          "yaxis": {
           "automargin": true,
           "gridcolor": "white",
           "linecolor": "white",
           "ticks": "",
           "title": {
            "standoff": 15
           },
           "zerolinecolor": "white",
           "zerolinewidth": 2
          }
         }
        },
        "title": {
         "text": "Optimization History Plot"
        },
        "xaxis": {
         "title": {
          "text": "Trial"
         }
        },
        "yaxis": {
         "title": {
          "text": "Objective Value"
         }
        }
       }
      }
     },
     "metadata": {},
     "output_type": "display_data"
    }
   ],
   "source": [
    "vis.plot_optimization_history(study)"
   ]
  },
  {
   "cell_type": "code",
   "execution_count": 6,
   "metadata": {},
   "outputs": [
    {
     "data": {
      "application/vnd.plotly.v1+json": {
       "config": {
        "plotlyServerURL": "https://plot.ly"
       },
       "data": [
        {
         "cliponaxis": false,
         "hovertemplate": [
          "model_name (CategoricalDistribution): 0.012813275397644956<extra></extra>",
          "chunk_overlap (FloatDistribution): 0.049969473577128116<extra></extra>",
          "num_retrieved_chunks (IntDistribution): 0.11396318597492074<extra></extra>",
          "threshold (FloatDistribution): 0.39566591181608846<extra></extra>",
          "chunk_size (IntDistribution): 0.42758815323421784<extra></extra>"
         ],
         "name": "Objective Value",
         "orientation": "h",
         "text": [
          "0.01",
          "0.05",
          "0.11",
          "0.40",
          "0.43"
         ],
         "textposition": "outside",
         "type": "bar",
         "x": [
          0.012813275397644956,
          0.049969473577128116,
          0.11396318597492074,
          0.39566591181608846,
          0.42758815323421784
         ],
         "y": [
          "model_name",
          "chunk_overlap",
          "num_retrieved_chunks",
          "threshold",
          "chunk_size"
         ]
        }
       ],
       "layout": {
        "template": {
         "data": {
          "bar": [
           {
            "error_x": {
             "color": "#2a3f5f"
            },
            "error_y": {
             "color": "#2a3f5f"
            },
            "marker": {
             "line": {
              "color": "#E5ECF6",
              "width": 0.5
             },
             "pattern": {
              "fillmode": "overlay",
              "size": 10,
              "solidity": 0.2
             }
            },
            "type": "bar"
           }
          ],
          "barpolar": [
           {
            "marker": {
             "line": {
              "color": "#E5ECF6",
              "width": 0.5
             },
             "pattern": {
              "fillmode": "overlay",
              "size": 10,
              "solidity": 0.2
             }
            },
            "type": "barpolar"
           }
          ],
          "carpet": [
           {
            "aaxis": {
             "endlinecolor": "#2a3f5f",
             "gridcolor": "white",
             "linecolor": "white",
             "minorgridcolor": "white",
             "startlinecolor": "#2a3f5f"
            },
            "baxis": {
             "endlinecolor": "#2a3f5f",
             "gridcolor": "white",
             "linecolor": "white",
             "minorgridcolor": "white",
             "startlinecolor": "#2a3f5f"
            },
            "type": "carpet"
           }
          ],
          "choropleth": [
           {
            "colorbar": {
             "outlinewidth": 0,
             "ticks": ""
            },
            "type": "choropleth"
           }
          ],
          "contour": [
           {
            "colorbar": {
             "outlinewidth": 0,
             "ticks": ""
            },
            "colorscale": [
             [
              0,
              "#0d0887"
             ],
             [
              0.1111111111111111,
              "#46039f"
             ],
             [
              0.2222222222222222,
              "#7201a8"
             ],
             [
              0.3333333333333333,
              "#9c179e"
             ],
             [
              0.4444444444444444,
              "#bd3786"
             ],
             [
              0.5555555555555556,
              "#d8576b"
             ],
             [
              0.6666666666666666,
              "#ed7953"
             ],
             [
              0.7777777777777778,
              "#fb9f3a"
             ],
             [
              0.8888888888888888,
              "#fdca26"
             ],
             [
              1,
              "#f0f921"
             ]
            ],
            "type": "contour"
           }
          ],
          "contourcarpet": [
           {
            "colorbar": {
             "outlinewidth": 0,
             "ticks": ""
            },
            "type": "contourcarpet"
           }
          ],
          "heatmap": [
           {
            "colorbar": {
             "outlinewidth": 0,
             "ticks": ""
            },
            "colorscale": [
             [
              0,
              "#0d0887"
             ],
             [
              0.1111111111111111,
              "#46039f"
             ],
             [
              0.2222222222222222,
              "#7201a8"
             ],
             [
              0.3333333333333333,
              "#9c179e"
             ],
             [
              0.4444444444444444,
              "#bd3786"
             ],
             [
              0.5555555555555556,
              "#d8576b"
             ],
             [
              0.6666666666666666,
              "#ed7953"
             ],
             [
              0.7777777777777778,
              "#fb9f3a"
             ],
             [
              0.8888888888888888,
              "#fdca26"
             ],
             [
              1,
              "#f0f921"
             ]
            ],
            "type": "heatmap"
           }
          ],
          "histogram": [
           {
            "marker": {
             "pattern": {
              "fillmode": "overlay",
              "size": 10,
              "solidity": 0.2
             }
            },
            "type": "histogram"
           }
          ],
          "histogram2d": [
           {
            "colorbar": {
             "outlinewidth": 0,
             "ticks": ""
            },
            "colorscale": [
             [
              0,
              "#0d0887"
             ],
             [
              0.1111111111111111,
              "#46039f"
             ],
             [
              0.2222222222222222,
              "#7201a8"
             ],
             [
              0.3333333333333333,
              "#9c179e"
             ],
             [
              0.4444444444444444,
              "#bd3786"
             ],
             [
              0.5555555555555556,
              "#d8576b"
             ],
             [
              0.6666666666666666,
              "#ed7953"
             ],
             [
              0.7777777777777778,
              "#fb9f3a"
             ],
             [
              0.8888888888888888,
              "#fdca26"
             ],
             [
              1,
              "#f0f921"
             ]
            ],
            "type": "histogram2d"
           }
          ],
          "histogram2dcontour": [
           {
            "colorbar": {
             "outlinewidth": 0,
             "ticks": ""
            },
            "colorscale": [
             [
              0,
              "#0d0887"
             ],
             [
              0.1111111111111111,
              "#46039f"
             ],
             [
              0.2222222222222222,
              "#7201a8"
             ],
             [
              0.3333333333333333,
              "#9c179e"
             ],
             [
              0.4444444444444444,
              "#bd3786"
             ],
             [
              0.5555555555555556,
              "#d8576b"
             ],
             [
              0.6666666666666666,
              "#ed7953"
             ],
             [
              0.7777777777777778,
              "#fb9f3a"
             ],
             [
              0.8888888888888888,
              "#fdca26"
             ],
             [
              1,
              "#f0f921"
             ]
            ],
            "type": "histogram2dcontour"
           }
          ],
          "mesh3d": [
           {
            "colorbar": {
             "outlinewidth": 0,
             "ticks": ""
            },
            "type": "mesh3d"
           }
          ],
          "parcoords": [
           {
            "line": {
             "colorbar": {
              "outlinewidth": 0,
              "ticks": ""
             }
            },
            "type": "parcoords"
           }
          ],
          "pie": [
           {
            "automargin": true,
            "type": "pie"
           }
          ],
          "scatter": [
           {
            "fillpattern": {
             "fillmode": "overlay",
             "size": 10,
             "solidity": 0.2
            },
            "type": "scatter"
           }
          ],
          "scatter3d": [
           {
            "line": {
             "colorbar": {
              "outlinewidth": 0,
              "ticks": ""
             }
            },
            "marker": {
             "colorbar": {
              "outlinewidth": 0,
              "ticks": ""
             }
            },
            "type": "scatter3d"
           }
          ],
          "scattercarpet": [
           {
            "marker": {
             "colorbar": {
              "outlinewidth": 0,
              "ticks": ""
             }
            },
            "type": "scattercarpet"
           }
          ],
          "scattergeo": [
           {
            "marker": {
             "colorbar": {
              "outlinewidth": 0,
              "ticks": ""
             }
            },
            "type": "scattergeo"
           }
          ],
          "scattergl": [
           {
            "marker": {
             "colorbar": {
              "outlinewidth": 0,
              "ticks": ""
             }
            },
            "type": "scattergl"
           }
          ],
          "scattermap": [
           {
            "marker": {
             "colorbar": {
              "outlinewidth": 0,
              "ticks": ""
             }
            },
            "type": "scattermap"
           }
          ],
          "scattermapbox": [
           {
            "marker": {
             "colorbar": {
              "outlinewidth": 0,
              "ticks": ""
             }
            },
            "type": "scattermapbox"
           }
          ],
          "scatterpolar": [
           {
            "marker": {
             "colorbar": {
              "outlinewidth": 0,
              "ticks": ""
             }
            },
            "type": "scatterpolar"
           }
          ],
          "scatterpolargl": [
           {
            "marker": {
             "colorbar": {
              "outlinewidth": 0,
              "ticks": ""
             }
            },
            "type": "scatterpolargl"
           }
          ],
          "scatterternary": [
           {
            "marker": {
             "colorbar": {
              "outlinewidth": 0,
              "ticks": ""
             }
            },
            "type": "scatterternary"
           }
          ],
          "surface": [
           {
            "colorbar": {
             "outlinewidth": 0,
             "ticks": ""
            },
            "colorscale": [
             [
              0,
              "#0d0887"
             ],
             [
              0.1111111111111111,
              "#46039f"
             ],
             [
              0.2222222222222222,
              "#7201a8"
             ],
             [
              0.3333333333333333,
              "#9c179e"
             ],
             [
              0.4444444444444444,
              "#bd3786"
             ],
             [
              0.5555555555555556,
              "#d8576b"
             ],
             [
              0.6666666666666666,
              "#ed7953"
             ],
             [
              0.7777777777777778,
              "#fb9f3a"
             ],
             [
              0.8888888888888888,
              "#fdca26"
             ],
             [
              1,
              "#f0f921"
             ]
            ],
            "type": "surface"
           }
          ],
          "table": [
           {
            "cells": {
             "fill": {
              "color": "#EBF0F8"
             },
             "line": {
              "color": "white"
             }
            },
            "header": {
             "fill": {
              "color": "#C8D4E3"
             },
             "line": {
              "color": "white"
             }
            },
            "type": "table"
           }
          ]
         },
         "layout": {
          "annotationdefaults": {
           "arrowcolor": "#2a3f5f",
           "arrowhead": 0,
           "arrowwidth": 1
          },
          "autotypenumbers": "strict",
          "coloraxis": {
           "colorbar": {
            "outlinewidth": 0,
            "ticks": ""
           }
          },
          "colorscale": {
           "diverging": [
            [
             0,
             "#8e0152"
            ],
            [
             0.1,
             "#c51b7d"
            ],
            [
             0.2,
             "#de77ae"
            ],
            [
             0.3,
             "#f1b6da"
            ],
            [
             0.4,
             "#fde0ef"
            ],
            [
             0.5,
             "#f7f7f7"
            ],
            [
             0.6,
             "#e6f5d0"
            ],
            [
             0.7,
             "#b8e186"
            ],
            [
             0.8,
             "#7fbc41"
            ],
            [
             0.9,
             "#4d9221"
            ],
            [
             1,
             "#276419"
            ]
           ],
           "sequential": [
            [
             0,
             "#0d0887"
            ],
            [
             0.1111111111111111,
             "#46039f"
            ],
            [
             0.2222222222222222,
             "#7201a8"
            ],
            [
             0.3333333333333333,
             "#9c179e"
            ],
            [
             0.4444444444444444,
             "#bd3786"
            ],
            [
             0.5555555555555556,
             "#d8576b"
            ],
            [
             0.6666666666666666,
             "#ed7953"
            ],
            [
             0.7777777777777778,
             "#fb9f3a"
            ],
            [
             0.8888888888888888,
             "#fdca26"
            ],
            [
             1,
             "#f0f921"
            ]
           ],
           "sequentialminus": [
            [
             0,
             "#0d0887"
            ],
            [
             0.1111111111111111,
             "#46039f"
            ],
            [
             0.2222222222222222,
             "#7201a8"
            ],
            [
             0.3333333333333333,
             "#9c179e"
            ],
            [
             0.4444444444444444,
             "#bd3786"
            ],
            [
             0.5555555555555556,
             "#d8576b"
            ],
            [
             0.6666666666666666,
             "#ed7953"
            ],
            [
             0.7777777777777778,
             "#fb9f3a"
            ],
            [
             0.8888888888888888,
             "#fdca26"
            ],
            [
             1,
             "#f0f921"
            ]
           ]
          },
          "colorway": [
           "#636efa",
           "#EF553B",
           "#00cc96",
           "#ab63fa",
           "#FFA15A",
           "#19d3f3",
           "#FF6692",
           "#B6E880",
           "#FF97FF",
           "#FECB52"
          ],
          "font": {
           "color": "#2a3f5f"
          },
          "geo": {
           "bgcolor": "white",
           "lakecolor": "white",
           "landcolor": "#E5ECF6",
           "showlakes": true,
           "showland": true,
           "subunitcolor": "white"
          },
          "hoverlabel": {
           "align": "left"
          },
          "hovermode": "closest",
          "mapbox": {
           "style": "light"
          },
          "paper_bgcolor": "white",
          "plot_bgcolor": "#E5ECF6",
          "polar": {
           "angularaxis": {
            "gridcolor": "white",
            "linecolor": "white",
            "ticks": ""
           },
           "bgcolor": "#E5ECF6",
           "radialaxis": {
            "gridcolor": "white",
            "linecolor": "white",
            "ticks": ""
           }
          },
          "scene": {
           "xaxis": {
            "backgroundcolor": "#E5ECF6",
            "gridcolor": "white",
            "gridwidth": 2,
            "linecolor": "white",
            "showbackground": true,
            "ticks": "",
            "zerolinecolor": "white"
           },
           "yaxis": {
            "backgroundcolor": "#E5ECF6",
            "gridcolor": "white",
            "gridwidth": 2,
            "linecolor": "white",
            "showbackground": true,
            "ticks": "",
            "zerolinecolor": "white"
           },
           "zaxis": {
            "backgroundcolor": "#E5ECF6",
            "gridcolor": "white",
            "gridwidth": 2,
            "linecolor": "white",
            "showbackground": true,
            "ticks": "",
            "zerolinecolor": "white"
           }
          },
          "shapedefaults": {
           "line": {
            "color": "#2a3f5f"
           }
          },
          "ternary": {
           "aaxis": {
            "gridcolor": "white",
            "linecolor": "white",
            "ticks": ""
           },
           "baxis": {
            "gridcolor": "white",
            "linecolor": "white",
            "ticks": ""
           },
           "bgcolor": "#E5ECF6",
           "caxis": {
            "gridcolor": "white",
            "linecolor": "white",
            "ticks": ""
           }
          },
          "title": {
           "x": 0.05
          },
          "xaxis": {
           "automargin": true,
           "gridcolor": "white",
           "linecolor": "white",
           "ticks": "",
           "title": {
            "standoff": 15
           },
           "zerolinecolor": "white",
           "zerolinewidth": 2
          },
          "yaxis": {
           "automargin": true,
           "gridcolor": "white",
           "linecolor": "white",
           "ticks": "",
           "title": {
            "standoff": 15
           },
           "zerolinecolor": "white",
           "zerolinewidth": 2
          }
         }
        },
        "title": {
         "text": "Hyperparameter Importances"
        },
        "xaxis": {
         "title": {
          "text": "Hyperparameter Importance"
         }
        },
        "yaxis": {
         "title": {
          "text": "Hyperparameter"
         }
        }
       }
      }
     },
     "metadata": {},
     "output_type": "display_data"
    }
   ],
   "source": [
    "vis.plot_param_importances(study)"
   ]
  },
  {
   "cell_type": "code",
   "execution_count": 7,
   "metadata": {},
   "outputs": [
    {
     "data": {
      "application/vnd.plotly.v1+json": {
       "config": {
        "plotlyServerURL": "https://plot.ly"
       },
       "data": [
        {
         "marker": {
          "color": [
           0,
           1,
           2,
           3,
           4,
           5,
           6,
           7,
           8,
           9,
           10,
           11,
           12,
           13,
           14,
           15,
           16,
           17,
           18,
           19,
           20,
           21,
           22,
           23,
           24,
           25,
           26,
           27,
           28,
           29,
           30,
           31,
           32,
           33,
           34,
           35,
           36,
           37,
           38,
           39,
           40,
           41,
           42,
           43,
           44,
           45,
           46,
           47,
           48,
           49,
           50,
           51,
           52,
           53,
           54,
           55,
           56,
           57,
           58,
           59,
           60,
           61,
           62,
           63,
           64,
           65,
           66,
           67,
           68,
           69,
           70,
           71,
           72,
           73,
           74,
           75,
           76,
           77,
           78,
           79,
           80,
           81,
           82,
           83,
           84,
           85,
           86,
           87,
           88,
           89,
           90,
           91,
           92,
           93,
           94,
           95,
           96,
           97,
           98,
           99
          ],
          "colorbar": {
           "title": {
            "text": "Trial"
           },
           "x": 1,
           "xpad": 40
          },
          "colorscale": [
           [
            0,
            "rgb(247,251,255)"
           ],
           [
            0.125,
            "rgb(222,235,247)"
           ],
           [
            0.25,
            "rgb(198,219,239)"
           ],
           [
            0.375,
            "rgb(158,202,225)"
           ],
           [
            0.5,
            "rgb(107,174,214)"
           ],
           [
            0.625,
            "rgb(66,146,198)"
           ],
           [
            0.75,
            "rgb(33,113,181)"
           ],
           [
            0.875,
            "rgb(8,81,156)"
           ],
           [
            1,
            "rgb(8,48,107)"
           ]
          ],
          "line": {
           "color": "Grey",
           "width": 0.5
          },
          "showscale": true
         },
         "mode": "markers",
         "name": "Feasible Trial",
         "showlegend": false,
         "type": "scatter",
         "x": [
          0.1,
          0.1,
          0.4,
          0.2,
          0.6000000000000001,
          0,
          0.3,
          0.4,
          0.6000000000000001,
          0.6000000000000001,
          0.7,
          0.7,
          0.7,
          0.7,
          0.5,
          0.7,
          0.5,
          0.5,
          0.7,
          0.3,
          0.6000000000000001,
          0.7,
          0.7,
          0.6000000000000001,
          0.5,
          0.7,
          0.6000000000000001,
          0.6000000000000001,
          0.4,
          0.5,
          0.6000000000000001,
          0.7,
          0.7,
          0.7,
          0.6000000000000001,
          0.2,
          0.7,
          0.6000000000000001,
          0.2,
          0.1,
          0.4,
          0.7,
          0.7,
          0.6000000000000001,
          0.7,
          0.6000000000000001,
          0.7,
          0,
          0.5,
          0.7,
          0.6000000000000001,
          0.7,
          0.7,
          0.7,
          0.7,
          0.7,
          0.7,
          0.6000000000000001,
          0.7,
          0.7,
          0.6000000000000001,
          0.7,
          0.7,
          0.7,
          0.7,
          0.6000000000000001,
          0.7,
          0.6000000000000001,
          0.6000000000000001,
          0.3,
          0.5,
          0.7,
          0.7,
          0.7,
          0.7,
          0.6000000000000001,
          0.6000000000000001,
          0.7,
          0.7,
          0.7,
          0.7,
          0.7,
          0.7,
          0.7,
          0.7,
          0.7,
          0.7,
          0.6000000000000001,
          0.7,
          0.6000000000000001,
          0.7,
          0.7,
          0.7,
          0.7,
          0.7,
          0.7,
          0.7,
          0.7,
          0.7,
          0.1
         ],
         "xaxis": "x",
         "y": [
          0.0861489974602821,
          0.1409380732987818,
          0.012825647108059,
          0.0324307057056715,
          0.2042152884280419,
          0.1044017106339359,
          0.0820062504582375,
          0,
          0.078052042547705,
          0.2758005141741877,
          0.4595684560698659,
          0.3807230043852746,
          0.3807230043852746,
          0.3807230043852746,
          0.1539409925292045,
          0.0111296911108941,
          0,
          0.2437520449400454,
          0.297380422343707,
          0.1548780830197303,
          0.0870248746887492,
          0.3807230043852746,
          0.376707666603503,
          0.2883366872577532,
          0.2879176805102249,
          0.376707666603503,
          0.3888700482122152,
          0.1952315841800318,
          0.2476591675527004,
          0.261996812818834,
          0.1800939702082092,
          0.3970747973588324,
          0.2246161759358597,
          0.3697845514720245,
          0.2497973804924758,
          0.34272838020006,
          0.1898042232271423,
          0.2758005141741877,
          0.2727879588207859,
          0.01798598986387,
          0.0530790207022504,
          0.3807230043852746,
          0.4325934439560708,
          0.2704648370614382,
          0.44162934360015,
          0.3631613660911956,
          0.3173003864183544,
          0.0752681518150868,
          0.0912052671430854,
          0.214802615136102,
          0.0683245479375414,
          0.4595684560698659,
          0.44162934360015,
          0.4595684560698659,
          0.4595684560698659,
          0.3002990098100064,
          0.376707666603503,
          0.4349321357303425,
          0.3553890901105931,
          0.436162942990681,
          0.2838952904615156,
          0.436162942990681,
          0.4221852888972006,
          0.4243066990693765,
          0.3497594306153685,
          0.369507769321432,
          0.3807230043852746,
          0.4389508087660551,
          0.3129512864226206,
          0.3677146809993571,
          0.1060640628631489,
          0.4595684560698659,
          0.4102309393433385,
          0.3807230043852746,
          0.3970747973588324,
          0.299472777793211,
          0.3905986740303785,
          0,
          0.4595684560698659,
          0.3807230043852746,
          0.2455370976514436,
          0.4595684560698659,
          0.3970747973588324,
          0.4595684560698659,
          0.2248085674335617,
          0.3807230043852746,
          0.2624381917276279,
          0.2817702482820126,
          0.2638712211240008,
          0.3344259180112592,
          0.3970747973588324,
          0.44162934360015,
          0.44162934360015,
          0.3807230043852746,
          0.376707666603503,
          0.44162934360015,
          0.3970747973588324,
          0.2831570363406813,
          0.376707666603503,
          0.3507478709771123
         ],
         "yaxis": "y"
        },
        {
         "marker": {
          "color": [
           0,
           1,
           2,
           3,
           4,
           5,
           6,
           7,
           8,
           9,
           10,
           11,
           12,
           13,
           14,
           15,
           16,
           17,
           18,
           19,
           20,
           21,
           22,
           23,
           24,
           25,
           26,
           27,
           28,
           29,
           30,
           31,
           32,
           33,
           34,
           35,
           36,
           37,
           38,
           39,
           40,
           41,
           42,
           43,
           44,
           45,
           46,
           47,
           48,
           49,
           50,
           51,
           52,
           53,
           54,
           55,
           56,
           57,
           58,
           59,
           60,
           61,
           62,
           63,
           64,
           65,
           66,
           67,
           68,
           69,
           70,
           71,
           72,
           73,
           74,
           75,
           76,
           77,
           78,
           79,
           80,
           81,
           82,
           83,
           84,
           85,
           86,
           87,
           88,
           89,
           90,
           91,
           92,
           93,
           94,
           95,
           96,
           97,
           98,
           99
          ],
          "colorbar": {
           "title": {
            "text": "Trial"
           },
           "x": 1,
           "xpad": 40
          },
          "colorscale": [
           [
            0,
            "rgb(247,251,255)"
           ],
           [
            0.125,
            "rgb(222,235,247)"
           ],
           [
            0.25,
            "rgb(198,219,239)"
           ],
           [
            0.375,
            "rgb(158,202,225)"
           ],
           [
            0.5,
            "rgb(107,174,214)"
           ],
           [
            0.625,
            "rgb(66,146,198)"
           ],
           [
            0.75,
            "rgb(33,113,181)"
           ],
           [
            0.875,
            "rgb(8,81,156)"
           ],
           [
            1,
            "rgb(8,48,107)"
           ]
          ],
          "line": {
           "color": "Grey",
           "width": 0.5
          },
          "showscale": false
         },
         "mode": "markers",
         "name": "Feasible Trial",
         "showlegend": false,
         "type": "scatter",
         "x": [
          200,
          70,
          260,
          290,
          70,
          90,
          290,
          110,
          140,
          80,
          40,
          30,
          30,
          30,
          190,
          140,
          40,
          120,
          50,
          230,
          170,
          30,
          60,
          100,
          30,
          60,
          50,
          130,
          90,
          50,
          210,
          50,
          70,
          50,
          80,
          60,
          100,
          80,
          50,
          250,
          160,
          30,
          40,
          70,
          40,
          40,
          70,
          100,
          300,
          50,
          40,
          40,
          40,
          40,
          40,
          90,
          60,
          30,
          70,
          40,
          30,
          40,
          60,
          40,
          80,
          60,
          30,
          40,
          60,
          40,
          270,
          40,
          50,
          30,
          50,
          80,
          60,
          70,
          40,
          30,
          180,
          40,
          50,
          40,
          210,
          30,
          150,
          70,
          120,
          50,
          50,
          40,
          40,
          30,
          60,
          40,
          50,
          90,
          60,
          30
         ],
         "xaxis": "x2",
         "y": [
          0.0861489974602821,
          0.1409380732987818,
          0.012825647108059,
          0.0324307057056715,
          0.2042152884280419,
          0.1044017106339359,
          0.0820062504582375,
          0,
          0.078052042547705,
          0.2758005141741877,
          0.4595684560698659,
          0.3807230043852746,
          0.3807230043852746,
          0.3807230043852746,
          0.1539409925292045,
          0.0111296911108941,
          0,
          0.2437520449400454,
          0.297380422343707,
          0.1548780830197303,
          0.0870248746887492,
          0.3807230043852746,
          0.376707666603503,
          0.2883366872577532,
          0.2879176805102249,
          0.376707666603503,
          0.3888700482122152,
          0.1952315841800318,
          0.2476591675527004,
          0.261996812818834,
          0.1800939702082092,
          0.3970747973588324,
          0.2246161759358597,
          0.3697845514720245,
          0.2497973804924758,
          0.34272838020006,
          0.1898042232271423,
          0.2758005141741877,
          0.2727879588207859,
          0.01798598986387,
          0.0530790207022504,
          0.3807230043852746,
          0.4325934439560708,
          0.2704648370614382,
          0.44162934360015,
          0.3631613660911956,
          0.3173003864183544,
          0.0752681518150868,
          0.0912052671430854,
          0.214802615136102,
          0.0683245479375414,
          0.4595684560698659,
          0.44162934360015,
          0.4595684560698659,
          0.4595684560698659,
          0.3002990098100064,
          0.376707666603503,
          0.4349321357303425,
          0.3553890901105931,
          0.436162942990681,
          0.2838952904615156,
          0.436162942990681,
          0.4221852888972006,
          0.4243066990693765,
          0.3497594306153685,
          0.369507769321432,
          0.3807230043852746,
          0.4389508087660551,
          0.3129512864226206,
          0.3677146809993571,
          0.1060640628631489,
          0.4595684560698659,
          0.4102309393433385,
          0.3807230043852746,
          0.3970747973588324,
          0.299472777793211,
          0.3905986740303785,
          0,
          0.4595684560698659,
          0.3807230043852746,
          0.2455370976514436,
          0.4595684560698659,
          0.3970747973588324,
          0.4595684560698659,
          0.2248085674335617,
          0.3807230043852746,
          0.2624381917276279,
          0.2817702482820126,
          0.2638712211240008,
          0.3344259180112592,
          0.3970747973588324,
          0.44162934360015,
          0.44162934360015,
          0.3807230043852746,
          0.376707666603503,
          0.44162934360015,
          0.3970747973588324,
          0.2831570363406813,
          0.376707666603503,
          0.3507478709771123
         ],
         "yaxis": "y2"
        },
        {
         "marker": {
          "color": [
           0,
           1,
           2,
           3,
           4,
           5,
           6,
           7,
           8,
           9,
           10,
           11,
           12,
           13,
           14,
           15,
           16,
           17,
           18,
           19,
           20,
           21,
           22,
           23,
           24,
           25,
           26,
           27,
           28,
           29,
           30,
           31,
           32,
           33,
           34,
           35,
           36,
           37,
           38,
           39,
           40,
           41,
           42,
           43,
           44,
           45,
           46,
           47,
           48,
           49,
           50,
           51,
           52,
           53,
           54,
           55,
           56,
           57,
           58,
           59,
           60,
           61,
           62,
           63,
           64,
           65,
           66,
           67,
           68,
           69,
           70,
           71,
           72,
           73,
           74,
           75,
           76,
           77,
           78,
           79,
           80,
           81,
           82,
           83,
           84,
           85,
           86,
           87,
           88,
           89,
           90,
           91,
           92,
           93,
           94,
           95,
           96,
           97,
           98,
           99
          ],
          "colorbar": {
           "title": {
            "text": "Trial"
           },
           "x": 1,
           "xpad": 40
          },
          "colorscale": [
           [
            0,
            "rgb(247,251,255)"
           ],
           [
            0.125,
            "rgb(222,235,247)"
           ],
           [
            0.25,
            "rgb(198,219,239)"
           ],
           [
            0.375,
            "rgb(158,202,225)"
           ],
           [
            0.5,
            "rgb(107,174,214)"
           ],
           [
            0.625,
            "rgb(66,146,198)"
           ],
           [
            0.75,
            "rgb(33,113,181)"
           ],
           [
            0.875,
            "rgb(8,81,156)"
           ],
           [
            1,
            "rgb(8,48,107)"
           ]
          ],
          "line": {
           "color": "Grey",
           "width": 0.5
          },
          "showscale": false
         },
         "mode": "markers",
         "name": "Feasible Trial",
         "showlegend": false,
         "type": "scatter",
         "x": [
          "sentence-transformers/all-MiniLM-L12-v2",
          "sentence-transformers/all-MiniLM-L6-v2",
          "sentence-transformers/all-MiniLM-L12-v2",
          "sentence-transformers/all-MiniLM-L12-v2",
          "sentence-transformers/all-MiniLM-L6-v2",
          "sentence-transformers/all-MiniLM-L12-v2",
          "sentence-transformers/all-MiniLM-L12-v2",
          "sentence-transformers/all-MiniLM-L12-v2",
          "sentence-transformers/all-MiniLM-L12-v2",
          "sentence-transformers/all-MiniLM-L12-v2",
          "sentence-transformers/all-MiniLM-L6-v2",
          "sentence-transformers/all-MiniLM-L6-v2",
          "sentence-transformers/all-MiniLM-L6-v2",
          "sentence-transformers/all-MiniLM-L6-v2",
          "sentence-transformers/all-MiniLM-L6-v2",
          "sentence-transformers/all-MiniLM-L6-v2",
          "sentence-transformers/all-MiniLM-L6-v2",
          "sentence-transformers/all-MiniLM-L6-v2",
          "sentence-transformers/all-MiniLM-L6-v2",
          "sentence-transformers/all-MiniLM-L6-v2",
          "sentence-transformers/all-MiniLM-L6-v2",
          "sentence-transformers/all-MiniLM-L6-v2",
          "sentence-transformers/all-MiniLM-L6-v2",
          "sentence-transformers/all-MiniLM-L6-v2",
          "sentence-transformers/all-MiniLM-L6-v2",
          "sentence-transformers/all-MiniLM-L6-v2",
          "sentence-transformers/all-MiniLM-L6-v2",
          "sentence-transformers/all-MiniLM-L6-v2",
          "sentence-transformers/all-MiniLM-L6-v2",
          "sentence-transformers/all-MiniLM-L6-v2",
          "sentence-transformers/all-MiniLM-L6-v2",
          "sentence-transformers/all-MiniLM-L6-v2",
          "sentence-transformers/all-MiniLM-L6-v2",
          "sentence-transformers/all-MiniLM-L6-v2",
          "sentence-transformers/all-MiniLM-L6-v2",
          "sentence-transformers/all-MiniLM-L6-v2",
          "sentence-transformers/all-MiniLM-L6-v2",
          "sentence-transformers/all-MiniLM-L12-v2",
          "sentence-transformers/all-MiniLM-L6-v2",
          "sentence-transformers/all-MiniLM-L12-v2",
          "sentence-transformers/all-MiniLM-L6-v2",
          "sentence-transformers/all-MiniLM-L6-v2",
          "sentence-transformers/all-MiniLM-L6-v2",
          "sentence-transformers/all-MiniLM-L6-v2",
          "sentence-transformers/all-MiniLM-L6-v2",
          "sentence-transformers/all-MiniLM-L12-v2",
          "sentence-transformers/all-MiniLM-L6-v2",
          "sentence-transformers/all-MiniLM-L6-v2",
          "sentence-transformers/all-MiniLM-L12-v2",
          "sentence-transformers/all-MiniLM-L6-v2",
          "sentence-transformers/all-MiniLM-L6-v2",
          "sentence-transformers/all-MiniLM-L6-v2",
          "sentence-transformers/all-MiniLM-L6-v2",
          "sentence-transformers/all-MiniLM-L6-v2",
          "sentence-transformers/all-MiniLM-L6-v2",
          "sentence-transformers/all-MiniLM-L6-v2",
          "sentence-transformers/all-MiniLM-L6-v2",
          "sentence-transformers/all-MiniLM-L6-v2",
          "sentence-transformers/all-MiniLM-L6-v2",
          "sentence-transformers/all-MiniLM-L12-v2",
          "sentence-transformers/all-MiniLM-L6-v2",
          "sentence-transformers/all-MiniLM-L12-v2",
          "sentence-transformers/all-MiniLM-L12-v2",
          "sentence-transformers/all-MiniLM-L12-v2",
          "sentence-transformers/all-MiniLM-L12-v2",
          "sentence-transformers/all-MiniLM-L12-v2",
          "sentence-transformers/all-MiniLM-L6-v2",
          "sentence-transformers/all-MiniLM-L6-v2",
          "sentence-transformers/all-MiniLM-L6-v2",
          "sentence-transformers/all-MiniLM-L6-v2",
          "sentence-transformers/all-MiniLM-L6-v2",
          "sentence-transformers/all-MiniLM-L6-v2",
          "sentence-transformers/all-MiniLM-L6-v2",
          "sentence-transformers/all-MiniLM-L6-v2",
          "sentence-transformers/all-MiniLM-L6-v2",
          "sentence-transformers/all-MiniLM-L6-v2",
          "sentence-transformers/all-MiniLM-L6-v2",
          "sentence-transformers/all-MiniLM-L6-v2",
          "sentence-transformers/all-MiniLM-L6-v2",
          "sentence-transformers/all-MiniLM-L6-v2",
          "sentence-transformers/all-MiniLM-L6-v2",
          "sentence-transformers/all-MiniLM-L6-v2",
          "sentence-transformers/all-MiniLM-L6-v2",
          "sentence-transformers/all-MiniLM-L6-v2",
          "sentence-transformers/all-MiniLM-L6-v2",
          "sentence-transformers/all-MiniLM-L6-v2",
          "sentence-transformers/all-MiniLM-L6-v2",
          "sentence-transformers/all-MiniLM-L6-v2",
          "sentence-transformers/all-MiniLM-L6-v2",
          "sentence-transformers/all-MiniLM-L6-v2",
          "sentence-transformers/all-MiniLM-L6-v2",
          "sentence-transformers/all-MiniLM-L6-v2",
          "sentence-transformers/all-MiniLM-L6-v2",
          "sentence-transformers/all-MiniLM-L6-v2",
          "sentence-transformers/all-MiniLM-L6-v2",
          "sentence-transformers/all-MiniLM-L6-v2",
          "sentence-transformers/all-MiniLM-L6-v2",
          "sentence-transformers/all-MiniLM-L6-v2",
          "sentence-transformers/all-MiniLM-L6-v2",
          "sentence-transformers/all-MiniLM-L6-v2"
         ],
         "xaxis": "x3",
         "y": [
          0.0861489974602821,
          0.1409380732987818,
          0.012825647108059,
          0.0324307057056715,
          0.2042152884280419,
          0.1044017106339359,
          0.0820062504582375,
          0,
          0.078052042547705,
          0.2758005141741877,
          0.4595684560698659,
          0.3807230043852746,
          0.3807230043852746,
          0.3807230043852746,
          0.1539409925292045,
          0.0111296911108941,
          0,
          0.2437520449400454,
          0.297380422343707,
          0.1548780830197303,
          0.0870248746887492,
          0.3807230043852746,
          0.376707666603503,
          0.2883366872577532,
          0.2879176805102249,
          0.376707666603503,
          0.3888700482122152,
          0.1952315841800318,
          0.2476591675527004,
          0.261996812818834,
          0.1800939702082092,
          0.3970747973588324,
          0.2246161759358597,
          0.3697845514720245,
          0.2497973804924758,
          0.34272838020006,
          0.1898042232271423,
          0.2758005141741877,
          0.2727879588207859,
          0.01798598986387,
          0.0530790207022504,
          0.3807230043852746,
          0.4325934439560708,
          0.2704648370614382,
          0.44162934360015,
          0.3631613660911956,
          0.3173003864183544,
          0.0752681518150868,
          0.0912052671430854,
          0.214802615136102,
          0.0683245479375414,
          0.4595684560698659,
          0.44162934360015,
          0.4595684560698659,
          0.4595684560698659,
          0.3002990098100064,
          0.376707666603503,
          0.4349321357303425,
          0.3553890901105931,
          0.436162942990681,
          0.2838952904615156,
          0.436162942990681,
          0.4221852888972006,
          0.4243066990693765,
          0.3497594306153685,
          0.369507769321432,
          0.3807230043852746,
          0.4389508087660551,
          0.3129512864226206,
          0.3677146809993571,
          0.1060640628631489,
          0.4595684560698659,
          0.4102309393433385,
          0.3807230043852746,
          0.3970747973588324,
          0.299472777793211,
          0.3905986740303785,
          0,
          0.4595684560698659,
          0.3807230043852746,
          0.2455370976514436,
          0.4595684560698659,
          0.3970747973588324,
          0.4595684560698659,
          0.2248085674335617,
          0.3807230043852746,
          0.2624381917276279,
          0.2817702482820126,
          0.2638712211240008,
          0.3344259180112592,
          0.3970747973588324,
          0.44162934360015,
          0.44162934360015,
          0.3807230043852746,
          0.376707666603503,
          0.44162934360015,
          0.3970747973588324,
          0.2831570363406813,
          0.376707666603503,
          0.3507478709771123
         ],
         "yaxis": "y3"
        },
        {
         "marker": {
          "color": [
           0,
           1,
           2,
           3,
           4,
           5,
           6,
           7,
           8,
           9,
           10,
           11,
           12,
           13,
           14,
           15,
           16,
           17,
           18,
           19,
           20,
           21,
           22,
           23,
           24,
           25,
           26,
           27,
           28,
           29,
           30,
           31,
           32,
           33,
           34,
           35,
           36,
           37,
           38,
           39,
           40,
           41,
           42,
           43,
           44,
           45,
           46,
           47,
           48,
           49,
           50,
           51,
           52,
           53,
           54,
           55,
           56,
           57,
           58,
           59,
           60,
           61,
           62,
           63,
           64,
           65,
           66,
           67,
           68,
           69,
           70,
           71,
           72,
           73,
           74,
           75,
           76,
           77,
           78,
           79,
           80,
           81,
           82,
           83,
           84,
           85,
           86,
           87,
           88,
           89,
           90,
           91,
           92,
           93,
           94,
           95,
           96,
           97,
           98,
           99
          ],
          "colorbar": {
           "title": {
            "text": "Trial"
           },
           "x": 1,
           "xpad": 40
          },
          "colorscale": [
           [
            0,
            "rgb(247,251,255)"
           ],
           [
            0.125,
            "rgb(222,235,247)"
           ],
           [
            0.25,
            "rgb(198,219,239)"
           ],
           [
            0.375,
            "rgb(158,202,225)"
           ],
           [
            0.5,
            "rgb(107,174,214)"
           ],
           [
            0.625,
            "rgb(66,146,198)"
           ],
           [
            0.75,
            "rgb(33,113,181)"
           ],
           [
            0.875,
            "rgb(8,81,156)"
           ],
           [
            1,
            "rgb(8,48,107)"
           ]
          ],
          "line": {
           "color": "Grey",
           "width": 0.5
          },
          "showscale": false
         },
         "mode": "markers",
         "name": "Feasible Trial",
         "showlegend": false,
         "type": "scatter",
         "x": [
          9,
          3,
          6,
          8,
          6,
          6,
          4,
          4,
          10,
          2,
          1,
          1,
          1,
          1,
          3,
          1,
          3,
          2,
          5,
          2,
          8,
          1,
          1,
          2,
          4,
          1,
          2,
          3,
          2,
          5,
          2,
          1,
          1,
          3,
          2,
          1,
          7,
          2,
          3,
          1,
          4,
          1,
          2,
          2,
          2,
          3,
          3,
          10,
          4,
          9,
          2,
          1,
          2,
          1,
          1,
          1,
          1,
          1,
          2,
          1,
          7,
          1,
          1,
          2,
          1,
          2,
          1,
          2,
          3,
          2,
          3,
          1,
          2,
          1,
          1,
          2,
          1,
          2,
          1,
          1,
          1,
          1,
          1,
          1,
          1,
          1,
          1,
          1,
          1,
          5,
          1,
          2,
          2,
          1,
          1,
          2,
          1,
          2,
          1,
          1
         ],
         "xaxis": "x4",
         "y": [
          0.0861489974602821,
          0.1409380732987818,
          0.012825647108059,
          0.0324307057056715,
          0.2042152884280419,
          0.1044017106339359,
          0.0820062504582375,
          0,
          0.078052042547705,
          0.2758005141741877,
          0.4595684560698659,
          0.3807230043852746,
          0.3807230043852746,
          0.3807230043852746,
          0.1539409925292045,
          0.0111296911108941,
          0,
          0.2437520449400454,
          0.297380422343707,
          0.1548780830197303,
          0.0870248746887492,
          0.3807230043852746,
          0.376707666603503,
          0.2883366872577532,
          0.2879176805102249,
          0.376707666603503,
          0.3888700482122152,
          0.1952315841800318,
          0.2476591675527004,
          0.261996812818834,
          0.1800939702082092,
          0.3970747973588324,
          0.2246161759358597,
          0.3697845514720245,
          0.2497973804924758,
          0.34272838020006,
          0.1898042232271423,
          0.2758005141741877,
          0.2727879588207859,
          0.01798598986387,
          0.0530790207022504,
          0.3807230043852746,
          0.4325934439560708,
          0.2704648370614382,
          0.44162934360015,
          0.3631613660911956,
          0.3173003864183544,
          0.0752681518150868,
          0.0912052671430854,
          0.214802615136102,
          0.0683245479375414,
          0.4595684560698659,
          0.44162934360015,
          0.4595684560698659,
          0.4595684560698659,
          0.3002990098100064,
          0.376707666603503,
          0.4349321357303425,
          0.3553890901105931,
          0.436162942990681,
          0.2838952904615156,
          0.436162942990681,
          0.4221852888972006,
          0.4243066990693765,
          0.3497594306153685,
          0.369507769321432,
          0.3807230043852746,
          0.4389508087660551,
          0.3129512864226206,
          0.3677146809993571,
          0.1060640628631489,
          0.4595684560698659,
          0.4102309393433385,
          0.3807230043852746,
          0.3970747973588324,
          0.299472777793211,
          0.3905986740303785,
          0,
          0.4595684560698659,
          0.3807230043852746,
          0.2455370976514436,
          0.4595684560698659,
          0.3970747973588324,
          0.4595684560698659,
          0.2248085674335617,
          0.3807230043852746,
          0.2624381917276279,
          0.2817702482820126,
          0.2638712211240008,
          0.3344259180112592,
          0.3970747973588324,
          0.44162934360015,
          0.44162934360015,
          0.3807230043852746,
          0.376707666603503,
          0.44162934360015,
          0.3970747973588324,
          0.2831570363406813,
          0.376707666603503,
          0.3507478709771123
         ],
         "yaxis": "y4"
        },
        {
         "marker": {
          "color": [
           0,
           1,
           2,
           3,
           4,
           5,
           6,
           7,
           8,
           9,
           10,
           11,
           12,
           13,
           14,
           15,
           16,
           17,
           18,
           19,
           20,
           21,
           22,
           23,
           24,
           25,
           26,
           27,
           28,
           29,
           30,
           31,
           32,
           33,
           34,
           35,
           36,
           37,
           38,
           39,
           40,
           41,
           42,
           43,
           44,
           45,
           46,
           47,
           48,
           49,
           50,
           51,
           52,
           53,
           54,
           55,
           56,
           57,
           58,
           59,
           60,
           61,
           62,
           63,
           64,
           65,
           66,
           67,
           68,
           69,
           70,
           71,
           72,
           73,
           74,
           75,
           76,
           77,
           78,
           79,
           80,
           81,
           82,
           83,
           84,
           85,
           86,
           87,
           88,
           89,
           90,
           91,
           92,
           93,
           94,
           95,
           96,
           97,
           98,
           99
          ],
          "colorbar": {
           "title": {
            "text": "Trial"
           },
           "x": 1,
           "xpad": 40
          },
          "colorscale": [
           [
            0,
            "rgb(247,251,255)"
           ],
           [
            0.125,
            "rgb(222,235,247)"
           ],
           [
            0.25,
            "rgb(198,219,239)"
           ],
           [
            0.375,
            "rgb(158,202,225)"
           ],
           [
            0.5,
            "rgb(107,174,214)"
           ],
           [
            0.625,
            "rgb(66,146,198)"
           ],
           [
            0.75,
            "rgb(33,113,181)"
           ],
           [
            0.875,
            "rgb(8,81,156)"
           ],
           [
            1,
            "rgb(8,48,107)"
           ]
          ],
          "line": {
           "color": "Grey",
           "width": 0.5
          },
          "showscale": false
         },
         "mode": "markers",
         "name": "Feasible Trial",
         "showlegend": false,
         "type": "scatter",
         "x": [
          0.4743718311149292,
          0.5390128027240505,
          0.6182320344948716,
          0.0765764350352774,
          0.2026320899808018,
          0.2020283089989413,
          0.4960923504057777,
          0.7822313431888624,
          0.0865468718734315,
          0.2326344766402044,
          0.2786397449038925,
          0.3060977374236786,
          0.3438782123967515,
          0.3306610532334943,
          0.3617141418792275,
          0.6882341303610964,
          0.8799490537612549,
          0.2702548138785436,
          0.0056665358813634,
          0.4006553850935472,
          0.1531164002814002,
          0.3059455857432233,
          0.410775959197116,
          0.3109103083273765,
          0.565792315878102,
          0.4236361377958625,
          0.1467907076102708,
          0.1254674911257948,
          0.2556658192943695,
          0.0650605383713211,
          0.1435817078338916,
          0.3708021981862779,
          0.5056837035242627,
          0.2010059604585953,
          0.4595328887848764,
          0.2862028749804247,
          0.3839535197337985,
          0.1925478115578741,
          0.0151064062853308,
          0.5441325743129775,
          0.5943294601475031,
          0.3535357741967897,
          0.45256215045049,
          0.4729209186086067,
          0.2308268213779014,
          0.2319982097020258,
          0.105096791270726,
          0.1848313019507019,
          0.4308429354248597,
          0.2380826661911525,
          0.6667489285797803,
          0.3218904248225483,
          0.3747980327944503,
          0.3689414077733815,
          0.3169353029725498,
          0.3319592761285528,
          0.3015923426721359,
          0.2509199745010709,
          0.3346238122198233,
          0.389744778044324,
          0.2763766590582304,
          0.4013131680486844,
          0.3721173476314322,
          0.500360629893427,
          0.3134679887494987,
          0.4327789107160443,
          0.3435425112611014,
          0.2280284466527613,
          0.17232251445954,
          0.2219601139622772,
          0.274046877635944,
          0.3937906826490789,
          0.3016695011635498,
          0.2612115830837928,
          0.2207859481912788,
          0.3578790692491131,
          0.3262897105599195,
          0.8505007687414703,
          0.2886705780602694,
          0.2813179025226767,
          0.405960516938677,
          0.3748265683432327,
          0.3780423109846337,
          0.355782855181208,
          0.297731658492021,
          0.4202505134047907,
          0.34737701856336,
          0.4787507786786701,
          0.3114428710375768,
          0.4456365341194878,
          0.2553220454533533,
          0.3631636009535334,
          0.3812696376924553,
          0.3245937956780447,
          0.4039343231858623,
          0.288605705742031,
          0.3513948962052665,
          0.323162051079736,
          0.3884844831151474,
          0.1729602696189879
         ],
         "xaxis": "x5",
         "y": [
          0.0861489974602821,
          0.1409380732987818,
          0.012825647108059,
          0.0324307057056715,
          0.2042152884280419,
          0.1044017106339359,
          0.0820062504582375,
          0,
          0.078052042547705,
          0.2758005141741877,
          0.4595684560698659,
          0.3807230043852746,
          0.3807230043852746,
          0.3807230043852746,
          0.1539409925292045,
          0.0111296911108941,
          0,
          0.2437520449400454,
          0.297380422343707,
          0.1548780830197303,
          0.0870248746887492,
          0.3807230043852746,
          0.376707666603503,
          0.2883366872577532,
          0.2879176805102249,
          0.376707666603503,
          0.3888700482122152,
          0.1952315841800318,
          0.2476591675527004,
          0.261996812818834,
          0.1800939702082092,
          0.3970747973588324,
          0.2246161759358597,
          0.3697845514720245,
          0.2497973804924758,
          0.34272838020006,
          0.1898042232271423,
          0.2758005141741877,
          0.2727879588207859,
          0.01798598986387,
          0.0530790207022504,
          0.3807230043852746,
          0.4325934439560708,
          0.2704648370614382,
          0.44162934360015,
          0.3631613660911956,
          0.3173003864183544,
          0.0752681518150868,
          0.0912052671430854,
          0.214802615136102,
          0.0683245479375414,
          0.4595684560698659,
          0.44162934360015,
          0.4595684560698659,
          0.4595684560698659,
          0.3002990098100064,
          0.376707666603503,
          0.4349321357303425,
          0.3553890901105931,
          0.436162942990681,
          0.2838952904615156,
          0.436162942990681,
          0.4221852888972006,
          0.4243066990693765,
          0.3497594306153685,
          0.369507769321432,
          0.3807230043852746,
          0.4389508087660551,
          0.3129512864226206,
          0.3677146809993571,
          0.1060640628631489,
          0.4595684560698659,
          0.4102309393433385,
          0.3807230043852746,
          0.3970747973588324,
          0.299472777793211,
          0.3905986740303785,
          0,
          0.4595684560698659,
          0.3807230043852746,
          0.2455370976514436,
          0.4595684560698659,
          0.3970747973588324,
          0.4595684560698659,
          0.2248085674335617,
          0.3807230043852746,
          0.2624381917276279,
          0.2817702482820126,
          0.2638712211240008,
          0.3344259180112592,
          0.3970747973588324,
          0.44162934360015,
          0.44162934360015,
          0.3807230043852746,
          0.376707666603503,
          0.44162934360015,
          0.3970747973588324,
          0.2831570363406813,
          0.376707666603503,
          0.3507478709771123
         ],
         "yaxis": "y5"
        }
       ],
       "layout": {
        "template": {
         "data": {
          "bar": [
           {
            "error_x": {
             "color": "#2a3f5f"
            },
            "error_y": {
             "color": "#2a3f5f"
            },
            "marker": {
             "line": {
              "color": "#E5ECF6",
              "width": 0.5
             },
             "pattern": {
              "fillmode": "overlay",
              "size": 10,
              "solidity": 0.2
             }
            },
            "type": "bar"
           }
          ],
          "barpolar": [
           {
            "marker": {
             "line": {
              "color": "#E5ECF6",
              "width": 0.5
             },
             "pattern": {
              "fillmode": "overlay",
              "size": 10,
              "solidity": 0.2
             }
            },
            "type": "barpolar"
           }
          ],
          "carpet": [
           {
            "aaxis": {
             "endlinecolor": "#2a3f5f",
             "gridcolor": "white",
             "linecolor": "white",
             "minorgridcolor": "white",
             "startlinecolor": "#2a3f5f"
            },
            "baxis": {
             "endlinecolor": "#2a3f5f",
             "gridcolor": "white",
             "linecolor": "white",
             "minorgridcolor": "white",
             "startlinecolor": "#2a3f5f"
            },
            "type": "carpet"
           }
          ],
          "choropleth": [
           {
            "colorbar": {
             "outlinewidth": 0,
             "ticks": ""
            },
            "type": "choropleth"
           }
          ],
          "contour": [
           {
            "colorbar": {
             "outlinewidth": 0,
             "ticks": ""
            },
            "colorscale": [
             [
              0,
              "#0d0887"
             ],
             [
              0.1111111111111111,
              "#46039f"
             ],
             [
              0.2222222222222222,
              "#7201a8"
             ],
             [
              0.3333333333333333,
              "#9c179e"
             ],
             [
              0.4444444444444444,
              "#bd3786"
             ],
             [
              0.5555555555555556,
              "#d8576b"
             ],
             [
              0.6666666666666666,
              "#ed7953"
             ],
             [
              0.7777777777777778,
              "#fb9f3a"
             ],
             [
              0.8888888888888888,
              "#fdca26"
             ],
             [
              1,
              "#f0f921"
             ]
            ],
            "type": "contour"
           }
          ],
          "contourcarpet": [
           {
            "colorbar": {
             "outlinewidth": 0,
             "ticks": ""
            },
            "type": "contourcarpet"
           }
          ],
          "heatmap": [
           {
            "colorbar": {
             "outlinewidth": 0,
             "ticks": ""
            },
            "colorscale": [
             [
              0,
              "#0d0887"
             ],
             [
              0.1111111111111111,
              "#46039f"
             ],
             [
              0.2222222222222222,
              "#7201a8"
             ],
             [
              0.3333333333333333,
              "#9c179e"
             ],
             [
              0.4444444444444444,
              "#bd3786"
             ],
             [
              0.5555555555555556,
              "#d8576b"
             ],
             [
              0.6666666666666666,
              "#ed7953"
             ],
             [
              0.7777777777777778,
              "#fb9f3a"
             ],
             [
              0.8888888888888888,
              "#fdca26"
             ],
             [
              1,
              "#f0f921"
             ]
            ],
            "type": "heatmap"
           }
          ],
          "histogram": [
           {
            "marker": {
             "pattern": {
              "fillmode": "overlay",
              "size": 10,
              "solidity": 0.2
             }
            },
            "type": "histogram"
           }
          ],
          "histogram2d": [
           {
            "colorbar": {
             "outlinewidth": 0,
             "ticks": ""
            },
            "colorscale": [
             [
              0,
              "#0d0887"
             ],
             [
              0.1111111111111111,
              "#46039f"
             ],
             [
              0.2222222222222222,
              "#7201a8"
             ],
             [
              0.3333333333333333,
              "#9c179e"
             ],
             [
              0.4444444444444444,
              "#bd3786"
             ],
             [
              0.5555555555555556,
              "#d8576b"
             ],
             [
              0.6666666666666666,
              "#ed7953"
             ],
             [
              0.7777777777777778,
              "#fb9f3a"
             ],
             [
              0.8888888888888888,
              "#fdca26"
             ],
             [
              1,
              "#f0f921"
             ]
            ],
            "type": "histogram2d"
           }
          ],
          "histogram2dcontour": [
           {
            "colorbar": {
             "outlinewidth": 0,
             "ticks": ""
            },
            "colorscale": [
             [
              0,
              "#0d0887"
             ],
             [
              0.1111111111111111,
              "#46039f"
             ],
             [
              0.2222222222222222,
              "#7201a8"
             ],
             [
              0.3333333333333333,
              "#9c179e"
             ],
             [
              0.4444444444444444,
              "#bd3786"
             ],
             [
              0.5555555555555556,
              "#d8576b"
             ],
             [
              0.6666666666666666,
              "#ed7953"
             ],
             [
              0.7777777777777778,
              "#fb9f3a"
             ],
             [
              0.8888888888888888,
              "#fdca26"
             ],
             [
              1,
              "#f0f921"
             ]
            ],
            "type": "histogram2dcontour"
           }
          ],
          "mesh3d": [
           {
            "colorbar": {
             "outlinewidth": 0,
             "ticks": ""
            },
            "type": "mesh3d"
           }
          ],
          "parcoords": [
           {
            "line": {
             "colorbar": {
              "outlinewidth": 0,
              "ticks": ""
             }
            },
            "type": "parcoords"
           }
          ],
          "pie": [
           {
            "automargin": true,
            "type": "pie"
           }
          ],
          "scatter": [
           {
            "fillpattern": {
             "fillmode": "overlay",
             "size": 10,
             "solidity": 0.2
            },
            "type": "scatter"
           }
          ],
          "scatter3d": [
           {
            "line": {
             "colorbar": {
              "outlinewidth": 0,
              "ticks": ""
             }
            },
            "marker": {
             "colorbar": {
              "outlinewidth": 0,
              "ticks": ""
             }
            },
            "type": "scatter3d"
           }
          ],
          "scattercarpet": [
           {
            "marker": {
             "colorbar": {
              "outlinewidth": 0,
              "ticks": ""
             }
            },
            "type": "scattercarpet"
           }
          ],
          "scattergeo": [
           {
            "marker": {
             "colorbar": {
              "outlinewidth": 0,
              "ticks": ""
             }
            },
            "type": "scattergeo"
           }
          ],
          "scattergl": [
           {
            "marker": {
             "colorbar": {
              "outlinewidth": 0,
              "ticks": ""
             }
            },
            "type": "scattergl"
           }
          ],
          "scattermap": [
           {
            "marker": {
             "colorbar": {
              "outlinewidth": 0,
              "ticks": ""
             }
            },
            "type": "scattermap"
           }
          ],
          "scattermapbox": [
           {
            "marker": {
             "colorbar": {
              "outlinewidth": 0,
              "ticks": ""
             }
            },
            "type": "scattermapbox"
           }
          ],
          "scatterpolar": [
           {
            "marker": {
             "colorbar": {
              "outlinewidth": 0,
              "ticks": ""
             }
            },
            "type": "scatterpolar"
           }
          ],
          "scatterpolargl": [
           {
            "marker": {
             "colorbar": {
              "outlinewidth": 0,
              "ticks": ""
             }
            },
            "type": "scatterpolargl"
           }
          ],
          "scatterternary": [
           {
            "marker": {
             "colorbar": {
              "outlinewidth": 0,
              "ticks": ""
             }
            },
            "type": "scatterternary"
           }
          ],
          "surface": [
           {
            "colorbar": {
             "outlinewidth": 0,
             "ticks": ""
            },
            "colorscale": [
             [
              0,
              "#0d0887"
             ],
             [
              0.1111111111111111,
              "#46039f"
             ],
             [
              0.2222222222222222,
              "#7201a8"
             ],
             [
              0.3333333333333333,
              "#9c179e"
             ],
             [
              0.4444444444444444,
              "#bd3786"
             ],
             [
              0.5555555555555556,
              "#d8576b"
             ],
             [
              0.6666666666666666,
              "#ed7953"
             ],
             [
              0.7777777777777778,
              "#fb9f3a"
             ],
             [
              0.8888888888888888,
              "#fdca26"
             ],
             [
              1,
              "#f0f921"
             ]
            ],
            "type": "surface"
           }
          ],
          "table": [
           {
            "cells": {
             "fill": {
              "color": "#EBF0F8"
             },
             "line": {
              "color": "white"
             }
            },
            "header": {
             "fill": {
              "color": "#C8D4E3"
             },
             "line": {
              "color": "white"
             }
            },
            "type": "table"
           }
          ]
         },
         "layout": {
          "annotationdefaults": {
           "arrowcolor": "#2a3f5f",
           "arrowhead": 0,
           "arrowwidth": 1
          },
          "autotypenumbers": "strict",
          "coloraxis": {
           "colorbar": {
            "outlinewidth": 0,
            "ticks": ""
           }
          },
          "colorscale": {
           "diverging": [
            [
             0,
             "#8e0152"
            ],
            [
             0.1,
             "#c51b7d"
            ],
            [
             0.2,
             "#de77ae"
            ],
            [
             0.3,
             "#f1b6da"
            ],
            [
             0.4,
             "#fde0ef"
            ],
            [
             0.5,
             "#f7f7f7"
            ],
            [
             0.6,
             "#e6f5d0"
            ],
            [
             0.7,
             "#b8e186"
            ],
            [
             0.8,
             "#7fbc41"
            ],
            [
             0.9,
             "#4d9221"
            ],
            [
             1,
             "#276419"
            ]
           ],
           "sequential": [
            [
             0,
             "#0d0887"
            ],
            [
             0.1111111111111111,
             "#46039f"
            ],
            [
             0.2222222222222222,
             "#7201a8"
            ],
            [
             0.3333333333333333,
             "#9c179e"
            ],
            [
             0.4444444444444444,
             "#bd3786"
            ],
            [
             0.5555555555555556,
             "#d8576b"
            ],
            [
             0.6666666666666666,
             "#ed7953"
            ],
            [
             0.7777777777777778,
             "#fb9f3a"
            ],
            [
             0.8888888888888888,
             "#fdca26"
            ],
            [
             1,
             "#f0f921"
            ]
           ],
           "sequentialminus": [
            [
             0,
             "#0d0887"
            ],
            [
             0.1111111111111111,
             "#46039f"
            ],
            [
             0.2222222222222222,
             "#7201a8"
            ],
            [
             0.3333333333333333,
             "#9c179e"
            ],
            [
             0.4444444444444444,
             "#bd3786"
            ],
            [
             0.5555555555555556,
             "#d8576b"
            ],
            [
             0.6666666666666666,
             "#ed7953"
            ],
            [
             0.7777777777777778,
             "#fb9f3a"
            ],
            [
             0.8888888888888888,
             "#fdca26"
            ],
            [
             1,
             "#f0f921"
            ]
           ]
          },
          "colorway": [
           "#636efa",
           "#EF553B",
           "#00cc96",
           "#ab63fa",
           "#FFA15A",
           "#19d3f3",
           "#FF6692",
           "#B6E880",
           "#FF97FF",
           "#FECB52"
          ],
          "font": {
           "color": "#2a3f5f"
          },
          "geo": {
           "bgcolor": "white",
           "lakecolor": "white",
           "landcolor": "#E5ECF6",
           "showlakes": true,
           "showland": true,
           "subunitcolor": "white"
          },
          "hoverlabel": {
           "align": "left"
          },
          "hovermode": "closest",
          "mapbox": {
           "style": "light"
          },
          "paper_bgcolor": "white",
          "plot_bgcolor": "#E5ECF6",
          "polar": {
           "angularaxis": {
            "gridcolor": "white",
            "linecolor": "white",
            "ticks": ""
           },
           "bgcolor": "#E5ECF6",
           "radialaxis": {
            "gridcolor": "white",
            "linecolor": "white",
            "ticks": ""
           }
          },
          "scene": {
           "xaxis": {
            "backgroundcolor": "#E5ECF6",
            "gridcolor": "white",
            "gridwidth": 2,
            "linecolor": "white",
            "showbackground": true,
            "ticks": "",
            "zerolinecolor": "white"
           },
           "yaxis": {
            "backgroundcolor": "#E5ECF6",
            "gridcolor": "white",
            "gridwidth": 2,
            "linecolor": "white",
            "showbackground": true,
            "ticks": "",
            "zerolinecolor": "white"
           },
           "zaxis": {
            "backgroundcolor": "#E5ECF6",
            "gridcolor": "white",
            "gridwidth": 2,
            "linecolor": "white",
            "showbackground": true,
            "ticks": "",
            "zerolinecolor": "white"
           }
          },
          "shapedefaults": {
           "line": {
            "color": "#2a3f5f"
           }
          },
          "ternary": {
           "aaxis": {
            "gridcolor": "white",
            "linecolor": "white",
            "ticks": ""
           },
           "baxis": {
            "gridcolor": "white",
            "linecolor": "white",
            "ticks": ""
           },
           "bgcolor": "#E5ECF6",
           "caxis": {
            "gridcolor": "white",
            "linecolor": "white",
            "ticks": ""
           }
          },
          "title": {
           "x": 0.05
          },
          "xaxis": {
           "automargin": true,
           "gridcolor": "white",
           "linecolor": "white",
           "ticks": "",
           "title": {
            "standoff": 15
           },
           "zerolinecolor": "white",
           "zerolinewidth": 2
          },
          "yaxis": {
           "automargin": true,
           "gridcolor": "white",
           "linecolor": "white",
           "ticks": "",
           "title": {
            "standoff": 15
           },
           "zerolinecolor": "white",
           "zerolinewidth": 2
          }
         }
        },
        "title": {
         "text": "Slice Plot"
        },
        "width": 1500,
        "xaxis": {
         "anchor": "y",
         "domain": [
          0,
          0.16799999999999998
         ],
         "title": {
          "text": "chunk_overlap"
         }
        },
        "xaxis2": {
         "anchor": "y2",
         "domain": [
          0.208,
          0.376
         ],
         "title": {
          "text": "chunk_size"
         }
        },
        "xaxis3": {
         "anchor": "y3",
         "categoryarray": [
          "sentence-transformers/all-MiniLM-L6-v2",
          "sentence-transformers/all-MiniLM-L12-v2"
         ],
         "categoryorder": "array",
         "domain": [
          0.416,
          0.584
         ],
         "title": {
          "text": "model_name"
         },
         "type": "category"
        },
        "xaxis4": {
         "anchor": "y4",
         "domain": [
          0.624,
          0.792
         ],
         "title": {
          "text": "num_retrieved_chunks"
         }
        },
        "xaxis5": {
         "anchor": "y5",
         "domain": [
          0.832,
          1
         ],
         "title": {
          "text": "threshold"
         }
        },
        "yaxis": {
         "anchor": "x",
         "domain": [
          0,
          1
         ],
         "title": {
          "text": "Objective Value"
         }
        },
        "yaxis2": {
         "anchor": "x2",
         "domain": [
          0,
          1
         ],
         "matches": "y",
         "showticklabels": false
        },
        "yaxis3": {
         "anchor": "x3",
         "domain": [
          0,
          1
         ],
         "matches": "y",
         "showticklabels": false
        },
        "yaxis4": {
         "anchor": "x4",
         "domain": [
          0,
          1
         ],
         "matches": "y",
         "showticklabels": false
        },
        "yaxis5": {
         "anchor": "x5",
         "domain": [
          0,
          1
         ],
         "matches": "y",
         "showticklabels": false
        }
       }
      }
     },
     "metadata": {},
     "output_type": "display_data"
    }
   ],
   "source": [
    "vis.plot_slice(study)"
   ]
  },
  {
   "cell_type": "markdown",
   "metadata": {},
   "source": [
    "Two most important parameters are `chunk_size` and `threshold`.  \n",
    "It does make sence, that small `chunk_size` with big enogh `chunk_overlap` produce a lot of chunks, that are more flexible and can be more accurate.  \n",
    "Also filtering out chunks with low `threshold` can help to get rid of noise.  \n",
    "Both models performed very similarly, which was expected since the models are very similar.  \n",
    "Bigger models didn't fit into my memory.  "
   ]
  },
  {
   "cell_type": "markdown",
   "metadata": {},
   "source": [
    "## Look into the results"
   ]
  },
  {
   "cell_type": "code",
   "execution_count": 8,
   "metadata": {},
   "outputs": [],
   "source": [
    "from evaluation import (\n",
    "    create_chunks, \n",
    "    create_embeddings, \n",
    "    retrieve_chunks, \n",
    "    merge_intervals, \n",
    "    get_ranges,\n",
    ")\n",
    "import json"
   ]
  },
  {
   "cell_type": "code",
   "execution_count": 11,
   "metadata": {},
   "outputs": [],
   "source": [
    "questions_path = \"../data/state_of_the_union_questions_df.csv\"\n",
    "text_path = \"../data/state_of_the_union.md\"\n",
    "\n",
    "questions_df = pd.read_csv(questions_path)\n",
    "with open(text_path, encoding=\"utf-8\") as f:\n",
    "    text = f.read()\n",
    "\n",
    "def run_samples(questions_df, text, chunk_size, chunk_overlap, num_retrieved_chunks, threshold, model_name, device):\n",
    "    chunks, tokenizer = create_chunks(text, chunk_size, chunk_overlap, model_name)\n",
    "    text_embeddings, question_embeddings = create_embeddings(chunks, questions_df[\"question\"].tolist(), model_name, device)\n",
    "    retrieved_indices = retrieve_chunks(question_embeddings, text_embeddings, threshold, num_retrieved_chunks)\n",
    "    retrieved_intervals = [merge_intervals(get_ranges(text, chunks, list(indices))) for indices in retrieved_indices]\n",
    "    target_intervals = [\n",
    "        merge_intervals([(ref['start_index'], ref['end_index']) for ref in json.loads(references)])\n",
    "        for references in questions_df['references']\n",
    "    ]\n",
    "\n",
    "    questions = questions_df['question'].tolist()\n",
    "\n",
    "    for retrieved, target, question in zip(retrieved_intervals, target_intervals, questions):\n",
    "\n",
    "        print(\"Question:\")\n",
    "        print(question)\n",
    "\n",
    "        print(\"Retrieved:\")\n",
    "        print(retrieved)\n",
    "        for start, end in retrieved:\n",
    "            print(text[start:end])\n",
    "\n",
    "        print(\"Target:\")\n",
    "        print(target)\n",
    "        for start, end in target:\n",
    "            print(text[start:end])\n",
    "        \n",
    "        print()"
   ]
  },
  {
   "cell_type": "code",
   "execution_count": 13,
   "metadata": {},
   "outputs": [
    {
     "name": "stdout",
     "output_type": "stream",
     "text": [
      "Question:\n",
      "What specific new office did President Biden establish to address gun violence, and who is leading it?\n",
      "Retrieved:\n",
      "[(37137, 37355)]\n",
      " something by establishing the first-ever Office of Gun Violence Prevention in the White House, that the Vice President is leading the charge. Thank you for doing it.\n",
      "\n",
      "Meanwhile — meanwhile, my predecessor told the NRA\n",
      "Target:\n",
      "[(37123, 37279)]\n",
      "Well, I did do something by establishing the first-ever Office of Gun Violence Prevention in the White House, that the Vice President is leading the charge.\n",
      "\n",
      "Question:\n",
      "At what age did President Biden get elected to the United States Senate, and was it planned?\n",
      "Retrieved:\n",
      "[(45927, 46114)]\n",
      " United States Senate when I had no intention of running, at age 29.\n",
      "\n",
      "Then vice president to our first Black president. Now a president to the first woman vice president.\n",
      "\n",
      "In my career, I\n",
      "Target:\n",
      "[(45907, 45995)]\n",
      "I got elected to the United States Senate when I had no intention of running, at age 29.\n",
      "\n",
      "Question:\n",
      "What significant gun safety law did President Biden mention signing during his State of the Union Address?\n",
      "Retrieved:\n",
      "[(37137, 37355)]\n",
      " something by establishing the first-ever Office of Gun Violence Prevention in the White House, that the Vice President is leading the charge. Thank you for doing it.\n",
      "\n",
      "Meanwhile — meanwhile, my predecessor told the NRA\n",
      "Target:\n",
      "[(37643, 37763)]\n",
      "I’m proud we beat the NRA when I signed the most significant gun safety law in nearly 30 years because of this Congress.\n",
      "\n",
      "Question:\n",
      "What key legislation mentioned by President Biden in his State of the Union address is designed to support veterans exposed to toxins?\n",
      "Retrieved:\n",
      "[(43925, 44116)]\n",
      ", with the strong support and help of Denis and the VA, I signed the PACT Act — one of the most significant laws ever, helping millions of veterans exposed to toxins who now are battling more\n",
      "Target:\n",
      "[(43915, 44144)]\n",
      "That’s why, with the strong support and help of Denis and the VA, I signed the PACT Act — one of the most significant laws ever, helping millions of veterans exposed to toxins who now are battling more than 100 different cancers.\n",
      "\n",
      "Question:\n",
      "What specific financial impacts does President Biden claim will result from the actions his administration is taking to eliminate junk fees and reduce credit card late fees?\n",
      "Retrieved:\n",
      "[(27226, 27421)]\n",
      " I’m also getting rid of junk fees — those hidden fees — at the end of your bill that are there without your knowledge. My administration announced we’re cutting credit card late fees from $32 to\n",
      "Target:\n",
      "[(27346, 27425), (27672, 27762)]\n",
      "My administration announced we’re cutting credit card late fees from $32 to $8.\n",
      "I’m saving American families $20 billion a year with all of the junk fees I’m eliminating.\n",
      "\n"
     ]
    }
   ],
   "source": [
    "chunk_size = study.best_params['chunk_size']\n",
    "chunk_overlap = int(study.best_params['chunk_overlap'] * chunk_size)\n",
    "num_retrieved_chunks = study.best_params['num_retrieved_chunks']\n",
    "threshold = study.best_params['threshold']\n",
    "model_name = study.best_params['model_name']\n",
    "\n",
    "run_samples(\n",
    "    questions_df.sample(5), \n",
    "    text, \n",
    "    chunk_size, \n",
    "    chunk_overlap, \n",
    "    num_retrieved_chunks, \n",
    "    threshold, \n",
    "    model_name, \n",
    "    \"cuda\"\n",
    ")"
   ]
  },
  {
   "cell_type": "markdown",
   "metadata": {},
   "source": [
    "# Conclusion\n"
   ]
  }
 ],
 "metadata": {
  "kernelspec": {
   "display_name": "jb",
   "language": "python",
   "name": "python3"
  },
  "language_info": {
   "codemirror_mode": {
    "name": "ipython",
    "version": 3
   },
   "file_extension": ".py",
   "mimetype": "text/x-python",
   "name": "python",
   "nbconvert_exporter": "python",
   "pygments_lexer": "ipython3",
   "version": "3.13.2"
  }
 },
 "nbformat": 4,
 "nbformat_minor": 2
}
