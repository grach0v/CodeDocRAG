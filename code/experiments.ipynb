{
 "cells": [
  {
   "cell_type": "code",
   "execution_count": 5,
   "metadata": {},
   "outputs": [],
   "source": [
    "import pandas as pd \n",
    "import json "
   ]
  },
  {
   "cell_type": "code",
   "execution_count": 6,
   "metadata": {},
   "outputs": [
    {
     "data": {
      "text/html": [
       "<div>\n",
       "<style scoped>\n",
       "    .dataframe tbody tr th:only-of-type {\n",
       "        vertical-align: middle;\n",
       "    }\n",
       "\n",
       "    .dataframe tbody tr th {\n",
       "        vertical-align: top;\n",
       "    }\n",
       "\n",
       "    .dataframe thead th {\n",
       "        text-align: right;\n",
       "    }\n",
       "</style>\n",
       "<table border=\"1\" class=\"dataframe\">\n",
       "  <thead>\n",
       "    <tr style=\"text-align: right;\">\n",
       "      <th></th>\n",
       "      <th>question</th>\n",
       "      <th>references</th>\n",
       "    </tr>\n",
       "  </thead>\n",
       "  <tbody>\n",
       "    <tr>\n",
       "      <th>0</th>\n",
       "      <td>What significant regulatory changes and propos...</td>\n",
       "      <td>[{\"content\": \"My administration announced we\\u...</td>\n",
       "    </tr>\n",
       "    <tr>\n",
       "      <th>1</th>\n",
       "      <td>What reasons did President Biden give for the ...</td>\n",
       "      <td>[{\"content\": \"But unfortunately, politics have...</td>\n",
       "    </tr>\n",
       "    <tr>\n",
       "      <th>2</th>\n",
       "      <td>How many people are no longer denied health in...</td>\n",
       "      <td>[{\"content\": \"Over 100 million of you can no l...</td>\n",
       "    </tr>\n",
       "    <tr>\n",
       "      <th>3</th>\n",
       "      <td>Which country is Putin invading, causing chaos...</td>\n",
       "      <td>[{\"content\": \"Overseas, Putin of Russia is on ...</td>\n",
       "    </tr>\n",
       "    <tr>\n",
       "      <th>4</th>\n",
       "      <td>When did the murder rate experience the sharpe...</td>\n",
       "      <td>[{\"content\": \"Last year, the murder rate saw t...</td>\n",
       "    </tr>\n",
       "  </tbody>\n",
       "</table>\n",
       "</div>"
      ],
      "text/plain": [
       "                                            question  \\\n",
       "0  What significant regulatory changes and propos...   \n",
       "1  What reasons did President Biden give for the ...   \n",
       "2  How many people are no longer denied health in...   \n",
       "3  Which country is Putin invading, causing chaos...   \n",
       "4  When did the murder rate experience the sharpe...   \n",
       "\n",
       "                                          references  \n",
       "0  [{\"content\": \"My administration announced we\\u...  \n",
       "1  [{\"content\": \"But unfortunately, politics have...  \n",
       "2  [{\"content\": \"Over 100 million of you can no l...  \n",
       "3  [{\"content\": \"Overseas, Putin of Russia is on ...  \n",
       "4  [{\"content\": \"Last year, the murder rate saw t...  "
      ]
     },
     "execution_count": 6,
     "metadata": {},
     "output_type": "execute_result"
    }
   ],
   "source": [
    "questions_df = pd.read_csv('../data/questions_df.csv')\n",
    "questions_df = questions_df.query('corpus_id == \"state_of_the_union\"')[['question', 'references']]\n",
    "questions_df.head()"
   ]
  },
  {
   "cell_type": "code",
   "execution_count": 7,
   "metadata": {},
   "outputs": [
    {
     "name": "stdout",
     "output_type": "stream",
     "text": [
      "Question: What significant regulatory changes and proposals has President Biden's administration implemented or announced regarding fees and pricing transparency?\n",
      "Reference: [\n",
      "  {\n",
      "    \"content\": \"My administration announced we\\u2019re cutting credit card late fees from $32 to $8.\",\n",
      "    \"start_index\": 27346,\n",
      "    \"end_index\": 27425\n",
      "  },\n",
      "  {\n",
      "    \"content\": \"My administration has proposed rules to make cable, travel, utilities, and online ticket sellers tell you the total price up front so there are no surprises.\",\n",
      "    \"start_index\": 27866,\n",
      "    \"end_index\": 28023\n",
      "  }\n",
      "]\n"
     ]
    }
   ],
   "source": [
    "for question, reference in questions_df.itertuples(index=False):\n",
    "    print(f'Question: {question}')\n",
    "    reference = json.loads(reference)\n",
    "    print(f'Reference: {json.dumps(reference, indent=2)}')\n",
    "    break"
   ]
  },
  {
   "cell_type": "code",
   "execution_count": 8,
   "metadata": {},
   "outputs": [],
   "source": [
    "from fixed_token_chunker import FixedTokenChunker"
   ]
  },
  {
   "cell_type": "code",
   "execution_count": null,
   "metadata": {},
   "outputs": [],
   "source": [
    "chunker = FixedTokenChunker(reference)"
   ]
  }
 ],
 "metadata": {
  "kernelspec": {
   "display_name": "base",
   "language": "python",
   "name": "python3"
  },
  "language_info": {
   "codemirror_mode": {
    "name": "ipython",
    "version": 3
   },
   "file_extension": ".py",
   "mimetype": "text/x-python",
   "name": "python",
   "nbconvert_exporter": "python",
   "pygments_lexer": "ipython3",
   "version": "3.12.1"
  }
 },
 "nbformat": 4,
 "nbformat_minor": 2
}
