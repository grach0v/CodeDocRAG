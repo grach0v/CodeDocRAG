{
 "cells": [
  {
   "cell_type": "code",
   "execution_count": null,
   "metadata": {},
   "outputs": [],
   "source": [
    "import pandas as pd \n",
    "import json "
   ]
  },
  {
   "cell_type": "code",
   "execution_count": 2,
   "metadata": {},
   "outputs": [
    {
     "data": {
      "text/html": [
       "<div>\n",
       "<style scoped>\n",
       "    .dataframe tbody tr th:only-of-type {\n",
       "        vertical-align: middle;\n",
       "    }\n",
       "\n",
       "    .dataframe tbody tr th {\n",
       "        vertical-align: top;\n",
       "    }\n",
       "\n",
       "    .dataframe thead th {\n",
       "        text-align: right;\n",
       "    }\n",
       "</style>\n",
       "<table border=\"1\" class=\"dataframe\">\n",
       "  <thead>\n",
       "    <tr style=\"text-align: right;\">\n",
       "      <th></th>\n",
       "      <th>question</th>\n",
       "      <th>references</th>\n",
       "    </tr>\n",
       "  </thead>\n",
       "  <tbody>\n",
       "    <tr>\n",
       "      <th>0</th>\n",
       "      <td>What significant regulatory changes and propos...</td>\n",
       "      <td>[{\"content\": \"My administration announced we\\u...</td>\n",
       "    </tr>\n",
       "    <tr>\n",
       "      <th>1</th>\n",
       "      <td>What reasons did President Biden give for the ...</td>\n",
       "      <td>[{\"content\": \"But unfortunately, politics have...</td>\n",
       "    </tr>\n",
       "    <tr>\n",
       "      <th>2</th>\n",
       "      <td>How many people are no longer denied health in...</td>\n",
       "      <td>[{\"content\": \"Over 100 million of you can no l...</td>\n",
       "    </tr>\n",
       "    <tr>\n",
       "      <th>3</th>\n",
       "      <td>Which country is Putin invading, causing chaos...</td>\n",
       "      <td>[{\"content\": \"Overseas, Putin of Russia is on ...</td>\n",
       "    </tr>\n",
       "    <tr>\n",
       "      <th>4</th>\n",
       "      <td>When did the murder rate experience the sharpe...</td>\n",
       "      <td>[{\"content\": \"Last year, the murder rate saw t...</td>\n",
       "    </tr>\n",
       "  </tbody>\n",
       "</table>\n",
       "</div>"
      ],
      "text/plain": [
       "                                            question  \\\n",
       "0  What significant regulatory changes and propos...   \n",
       "1  What reasons did President Biden give for the ...   \n",
       "2  How many people are no longer denied health in...   \n",
       "3  Which country is Putin invading, causing chaos...   \n",
       "4  When did the murder rate experience the sharpe...   \n",
       "\n",
       "                                          references  \n",
       "0  [{\"content\": \"My administration announced we\\u...  \n",
       "1  [{\"content\": \"But unfortunately, politics have...  \n",
       "2  [{\"content\": \"Over 100 million of you can no l...  \n",
       "3  [{\"content\": \"Overseas, Putin of Russia is on ...  \n",
       "4  [{\"content\": \"Last year, the murder rate saw t...  "
      ]
     },
     "execution_count": 2,
     "metadata": {},
     "output_type": "execute_result"
    }
   ],
   "source": [
    "questions_df = pd.read_csv('../data/questions_df.csv')\n",
    "questions_df = questions_df.query('corpus_id == \"state_of_the_union\"')[['question', 'references']]\n",
    "questions_df.head()"
   ]
  },
  {
   "cell_type": "code",
   "execution_count": 3,
   "metadata": {},
   "outputs": [],
   "source": [
    "with open('../data/state_of_the_union.md') as f:\n",
    "    text = ''.join(f.readlines())"
   ]
  },
  {
   "cell_type": "code",
   "execution_count": null,
   "metadata": {},
   "outputs": [],
   "source": [
    "from fixed_token_chunker import FixedTokenChunker\n"
   ]
  },
  {
   "cell_type": "code",
   "execution_count": 5,
   "metadata": {},
   "outputs": [],
   "source": [
    "from transformers import AutoTokenizer, AutoModel\n",
    "tokenizer = AutoTokenizer.from_pretrained('sentence-transformers/all-MiniLM-L6-v2')"
   ]
  },
  {
   "cell_type": "code",
   "execution_count": 6,
   "metadata": {},
   "outputs": [],
   "source": [
    "chunker = FixedTokenChunker(\n",
    "    tokenizer=tokenizer,\n",
    "    chunk_size=100,\n",
    "    chunk_overlap=20,\n",
    ")\n",
    "chunks = chunker.split_text(text)"
   ]
  },
  {
   "cell_type": "code",
   "execution_count": null,
   "metadata": {},
   "outputs": [],
   "source": [
    "from sentence_transformers import SentenceTransformer"
   ]
  },
  {
   "cell_type": "code",
   "execution_count": 8,
   "metadata": {},
   "outputs": [
    {
     "data": {
      "application/vnd.jupyter.widget-view+json": {
       "model_id": "e2567f4e10554f4595683e2c70919638",
       "version_major": 2,
       "version_minor": 0
      },
      "text/plain": [
       "README.md:   0%|          | 0.00/10.5k [00:00<?, ?B/s]"
      ]
     },
     "metadata": {},
     "output_type": "display_data"
    }
   ],
   "source": [
    "model = SentenceTransformer('sentence-transformers/all-MiniLM-L6-v2')\n",
    "text_embeddings = model.encode(chunks)"
   ]
  },
  {
   "cell_type": "code",
   "execution_count": 9,
   "metadata": {},
   "outputs": [],
   "source": [
    "question_embeddings = model.encode(questions_df['question'].tolist())"
   ]
  },
  {
   "cell_type": "code",
   "execution_count": 10,
   "metadata": {},
   "outputs": [],
   "source": [
    "from sklearn.metrics.pairwise import cosine_similarity\n",
    "import numpy as np"
   ]
  },
  {
   "cell_type": "code",
   "execution_count": 32,
   "metadata": {},
   "outputs": [],
   "source": [
    "similarities = cosine_similarity(question_embeddings, text_embeddings)\n",
    "k = 1  # Number of closest texts to retrieve\n",
    "closest_texts_indices = np.argsort(similarities, axis=1)[:, -k:][:, ::-1]  # Top k closest indices"
   ]
  },
  {
   "cell_type": "code",
   "execution_count": 33,
   "metadata": {},
   "outputs": [
    {
     "data": {
      "text/plain": [
       "array([[ 75],\n",
       "       [ 80],\n",
       "       [ 46],\n",
       "       [  2],\n",
       "       [ 97],\n",
       "       [119],\n",
       "       [115],\n",
       "       [ 27],\n",
       "       [125],\n",
       "       [ 10],\n",
       "       [ 97],\n",
       "       [ 24],\n",
       "       [ 25],\n",
       "       [ 89],\n",
       "       [ 83],\n",
       "       [ 76],\n",
       "       [ 77],\n",
       "       [  3],\n",
       "       [ 69],\n",
       "       [  0],\n",
       "       [ 77],\n",
       "       [ 22],\n",
       "       [ 64],\n",
       "       [ 24],\n",
       "       [  8],\n",
       "       [ 77],\n",
       "       [106],\n",
       "       [ 20],\n",
       "       [ 10],\n",
       "       [121],\n",
       "       [ 14],\n",
       "       [ 33],\n",
       "       [ 36],\n",
       "       [ 51],\n",
       "       [ 58],\n",
       "       [ 43],\n",
       "       [ 47],\n",
       "       [ 70],\n",
       "       [ 27],\n",
       "       [ 17],\n",
       "       [ 13],\n",
       "       [ 67],\n",
       "       [ 62],\n",
       "       [102],\n",
       "       [114],\n",
       "       [  0],\n",
       "       [116],\n",
       "       [ 41],\n",
       "       [ 18],\n",
       "       [119],\n",
       "       [ 65],\n",
       "       [ 74],\n",
       "       [ 51],\n",
       "       [ 92],\n",
       "       [ 76],\n",
       "       [ 56],\n",
       "       [ 17],\n",
       "       [  3],\n",
       "       [ 34],\n",
       "       [ 46],\n",
       "       [111],\n",
       "       [119],\n",
       "       [102],\n",
       "       [ 46],\n",
       "       [108],\n",
       "       [ 88],\n",
       "       [  0],\n",
       "       [  7],\n",
       "       [  0],\n",
       "       [ 17],\n",
       "       [ 91],\n",
       "       [ 76],\n",
       "       [101],\n",
       "       [ 10],\n",
       "       [ 70],\n",
       "       [119]])"
      ]
     },
     "execution_count": 33,
     "metadata": {},
     "output_type": "execute_result"
    }
   ],
   "source": [
    "closest_texts_indices"
   ]
  },
  {
   "cell_type": "code",
   "execution_count": 34,
   "metadata": {},
   "outputs": [],
   "source": [
    "def get_ranges(text, chunks, chunk_indices):\n",
    "    ranges = []\n",
    "    \n",
    "    for index in chunk_indices:\n",
    "        start = text.find(chunks[index])\n",
    "\n",
    "        if start == -1:\n",
    "            continue\n",
    "\n",
    "        end = start + len(chunks[index])\n",
    "        ranges.append((start, end))\n",
    "\n",
    "    return ranges\n",
    "\n",
    "def sum_of_ranges(ranges):\n",
    "    return sum(end - start for start, end in ranges)\n",
    "\n",
    "def merge_intervals(intervals):\n",
    "    if not intervals:\n",
    "        return []\n",
    "    # Sort intervals based on the start time.\n",
    "    intervals.sort(key=lambda x: x[0])\n",
    "    merged = [intervals[0]]\n",
    "    for current in intervals[1:]:\n",
    "        last_start, last_end = merged[-1]\n",
    "        curr_start, curr_end = current\n",
    "        # Check for overlap (assuming intervals are inclusive)\n",
    "        if curr_start <= last_end:\n",
    "            # Merge by extending the end time if necessary.\n",
    "            merged[-1] = (last_start, max(last_end, curr_end))\n",
    "        else:\n",
    "            merged.append(current)\n",
    "    return merged\n",
    "\n",
    "def intersect_intervals(retrieved, targets):\n",
    "    # Sort both lists by start times\n",
    "    retrieved.sort(key=lambda x: x[0])\n",
    "    targets.sort(key=lambda x: x[0])\n",
    "    \n",
    "    i, j = 0, 0\n",
    "    intersections = []\n",
    "    \n",
    "    while i < len(retrieved) and j < len(targets):\n",
    "        r_start, r_end = retrieved[i]\n",
    "        t_start, t_end = targets[j]\n",
    "        \n",
    "        # Find overlap boundaries\n",
    "        start = max(r_start, t_start)\n",
    "        end = min(r_end, t_end)\n",
    "        \n",
    "        if start <= end:  # They overlap\n",
    "            intersections.append((start, end))\n",
    "        \n",
    "        # Move the pointer that ends first\n",
    "        if r_end < t_end:\n",
    "            i += 1\n",
    "        else:\n",
    "            j += 1\n",
    "            \n",
    "    return intersections\n"
   ]
  },
  {
   "cell_type": "code",
   "execution_count": 35,
   "metadata": {},
   "outputs": [],
   "source": [
    "retrieved_intervals = [\n",
    "    get_ranges(text, chunks, indicies) \n",
    "    for indicies in closest_texts_indices\n",
    "]\n",
    "\n",
    "target_intervals = [\n",
    "    [(ref['start_index'], ref['end_index']) for ref in json.loads(references)]\n",
    "    for references in questions_df['references']\n",
    "]"
   ]
  },
  {
   "cell_type": "code",
   "execution_count": 36,
   "metadata": {},
   "outputs": [],
   "source": [
    "retrieved_intervals = [\n",
    "    merge_intervals(intervals)\n",
    "    for intervals in retrieved_intervals\n",
    "]\n",
    "\n",
    "target_intervals = [\n",
    "    merge_intervals(intervals)\n",
    "    for intervals in target_intervals\n",
    "]"
   ]
  },
  {
   "cell_type": "code",
   "execution_count": 37,
   "metadata": {},
   "outputs": [
    {
     "name": "stdout",
     "output_type": "stream",
     "text": [
      "IoU: 0.29 Precision: 0.34, Recall: 0.67, F1: 0.45\n",
      "IoU: 0.59 Precision: 0.62, Recall: 0.94, F1: 0.74\n",
      "IoU: 0.05 Precision: 0.06, Recall: 0.25, F1: 0.09\n",
      "IoU: 0.22 Precision: 0.22, Recall: 1.00, F1: 0.35\n",
      "IoU: 0.27 Precision: 0.27, Recall: 1.00, F1: 0.43\n",
      "IoU: 0.38 Precision: 0.39, Recall: 0.93, F1: 0.55\n",
      "IoU: 0.11 Precision: 0.11, Recall: 1.00, F1: 0.20\n",
      "IoU: 0.00 Precision: 0.00, Recall: 0.00, F1: 0.00\n",
      "IoU: 0.00 Precision: 0.00, Recall: 0.00, F1: 0.00\n",
      "IoU: 0.22 Precision: 0.22, Recall: 1.00, F1: 0.36\n",
      "IoU: 0.22 Precision: 0.22, Recall: 1.00, F1: 0.36\n",
      "IoU: 0.00 Precision: 0.00, Recall: 0.00, F1: 0.00\n",
      "IoU: 0.13 Precision: 0.13, Recall: 1.00, F1: 0.23\n",
      "IoU: 0.09 Precision: 0.09, Recall: 1.00, F1: 0.17\n",
      "IoU: 0.23 Precision: 0.23, Recall: 1.00, F1: 0.38\n",
      "IoU: 0.00 Precision: 0.00, Recall: 0.00, F1: 0.00\n",
      "IoU: 0.54 Precision: 0.54, Recall: 1.00, F1: 0.70\n",
      "IoU: 0.30 Precision: 0.30, Recall: 1.00, F1: 0.46\n",
      "IoU: 0.21 Precision: 0.21, Recall: 1.00, F1: 0.34\n",
      "IoU: 0.00 Precision: 0.00, Recall: 0.00, F1: 0.00\n",
      "IoU: 0.23 Precision: 0.23, Recall: 1.00, F1: 0.38\n",
      "IoU: 0.25 Precision: 0.25, Recall: 1.00, F1: 0.40\n",
      "IoU: 0.09 Precision: 0.11, Recall: 0.36, F1: 0.16\n",
      "IoU: 0.13 Precision: 0.13, Recall: 1.00, F1: 0.24\n",
      "IoU: 0.00 Precision: 0.00, Recall: 0.00, F1: 0.00\n",
      "IoU: 0.19 Precision: 0.22, Recall: 0.58, F1: 0.32\n",
      "IoU: 0.29 Precision: 0.30, Recall: 0.92, F1: 0.45\n",
      "IoU: 0.00 Precision: 0.00, Recall: 0.00, F1: 0.00\n",
      "IoU: 0.22 Precision: 0.22, Recall: 1.00, F1: 0.36\n",
      "IoU: 0.37 Precision: 0.40, Recall: 0.83, F1: 0.54\n",
      "IoU: 0.16 Precision: 0.19, Recall: 0.53, F1: 0.28\n",
      "IoU: 0.63 Precision: 0.85, Recall: 0.71, F1: 0.77\n",
      "IoU: 0.40 Precision: 0.40, Recall: 1.00, F1: 0.57\n",
      "IoU: 0.39 Precision: 0.55, Recall: 0.57, F1: 0.56\n",
      "IoU: 0.31 Precision: 0.31, Recall: 1.00, F1: 0.47\n",
      "IoU: 0.22 Precision: 0.41, Recall: 0.32, F1: 0.36\n",
      "IoU: 0.27 Precision: 0.33, Recall: 0.58, F1: 0.42\n",
      "IoU: 0.00 Precision: 0.00, Recall: 0.00, F1: 0.00\n",
      "IoU: 0.00 Precision: 0.00, Recall: 0.00, F1: 0.00\n",
      "IoU: 0.00 Precision: 0.00, Recall: 0.00, F1: 0.00\n",
      "IoU: 0.32 Precision: 0.41, Recall: 0.58, F1: 0.48\n",
      "IoU: 0.33 Precision: 0.33, Recall: 1.00, F1: 0.50\n",
      "IoU: 0.00 Precision: 0.00, Recall: 0.00, F1: 0.00\n",
      "IoU: 0.00 Precision: 0.00, Recall: 0.00, F1: 0.00\n",
      "IoU: 0.37 Precision: 0.47, Recall: 0.63, F1: 0.54\n",
      "IoU: 0.00 Precision: 0.00, Recall: 0.00, F1: 0.00\n",
      "IoU: 0.22 Precision: 0.25, Recall: 0.65, F1: 0.36\n",
      "IoU: 0.29 Precision: 0.29, Recall: 1.00, F1: 0.45\n",
      "IoU: 0.00 Precision: 0.00, Recall: 0.00, F1: 0.00\n",
      "IoU: 0.42 Precision: 0.44, Recall: 0.88, F1: 0.59\n",
      "IoU: 0.17 Precision: 0.29, Recall: 0.30, F1: 0.29\n",
      "IoU: 0.36 Precision: 0.37, Recall: 0.90, F1: 0.53\n",
      "IoU: 0.00 Precision: 0.00, Recall: 0.00, F1: 0.00\n",
      "IoU: 0.18 Precision: 0.18, Recall: 1.00, F1: 0.31\n",
      "IoU: 0.00 Precision: 0.00, Recall: 0.00, F1: 0.00\n",
      "IoU: 0.47 Precision: 0.47, Recall: 1.00, F1: 0.64\n",
      "IoU: 0.00 Precision: 0.00, Recall: 0.00, F1: 0.00\n",
      "IoU: 0.00 Precision: 0.00, Recall: 0.00, F1: 0.00\n",
      "IoU: 0.01 Precision: 0.01, Recall: 0.01, F1: 0.01\n",
      "IoU: 0.00 Precision: 0.00, Recall: 0.00, F1: 0.00\n",
      "IoU: 0.37 Precision: 0.37, Recall: 1.00, F1: 0.54\n",
      "IoU: 0.42 Precision: 0.44, Recall: 0.88, F1: 0.59\n",
      "IoU: 0.30 Precision: 0.30, Recall: 1.00, F1: 0.46\n",
      "IoU: 0.05 Precision: 0.06, Recall: 0.25, F1: 0.09\n",
      "IoU: 0.00 Precision: 0.00, Recall: 0.00, F1: 0.00\n",
      "IoU: 0.00 Precision: 0.00, Recall: 0.00, F1: 0.00\n",
      "IoU: 0.00 Precision: 0.00, Recall: 0.00, F1: 0.00\n",
      "IoU: 0.00 Precision: 0.00, Recall: 0.00, F1: 0.00\n",
      "IoU: 0.00 Precision: 0.00, Recall: 0.00, F1: 0.00\n",
      "IoU: 0.00 Precision: 0.00, Recall: 0.00, F1: 0.00\n",
      "IoU: 0.00 Precision: 0.00, Recall: 0.00, F1: 0.00\n",
      "IoU: 0.00 Precision: 0.00, Recall: 0.00, F1: 0.00\n",
      "IoU: 0.33 Precision: 0.33, Recall: 1.00, F1: 0.49\n",
      "IoU: 0.08 Precision: 0.12, Recall: 0.19, F1: 0.15\n",
      "IoU: 0.00 Precision: 0.00, Recall: 0.00, F1: 0.00\n",
      "IoU: 0.37 Precision: 0.44, Recall: 0.68, F1: 0.54\n"
     ]
    }
   ],
   "source": [
    "for retrieved, target in zip(retrieved_intervals, target_intervals):\n",
    "    intersections = intersect_intervals(retrieved.copy(), target.copy())\n",
    "    total_intersection = sum_of_ranges(intersections)\n",
    "    total_retrieved = sum_of_ranges(retrieved)\n",
    "    total_target = sum_of_ranges(target)\n",
    "\n",
    "    IoU = total_intersection / (total_retrieved + total_target - total_intersection)\n",
    "    precision = total_intersection / total_retrieved\n",
    "    recall = total_intersection / total_target\n",
    "    f1 = 2 * precision * recall / (precision + recall) if precision + recall > 0 else 0\n",
    "    \n",
    "    print(f'IoU: {IoU:.2f} Precision: {precision:.2f}, Recall: {recall:.2f}, F1: {f1:.2f}')"
   ]
  },
  {
   "cell_type": "code",
   "execution_count": null,
   "metadata": {},
   "outputs": [],
   "source": []
  },
  {
   "cell_type": "code",
   "execution_count": null,
   "metadata": {},
   "outputs": [],
   "source": []
  },
  {
   "cell_type": "code",
   "execution_count": null,
   "metadata": {},
   "outputs": [],
   "source": []
  },
  {
   "cell_type": "code",
   "execution_count": null,
   "metadata": {},
   "outputs": [],
   "source": []
  }
 ],
 "metadata": {
  "kernelspec": {
   "display_name": "jb",
   "language": "python",
   "name": "python3"
  },
  "language_info": {
   "codemirror_mode": {
    "name": "ipython",
    "version": 3
   },
   "file_extension": ".py",
   "mimetype": "text/x-python",
   "name": "python",
   "nbconvert_exporter": "python",
   "pygments_lexer": "ipython3",
   "version": "3.13.2"
  }
 },
 "nbformat": 4,
 "nbformat_minor": 2
}
